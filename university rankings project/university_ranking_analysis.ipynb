{
 "cells": [
  {
   "cell_type": "code",
   "execution_count": 177,
   "id": "5dde3a68",
   "metadata": {},
   "outputs": [],
   "source": [
    "import numpy as np\n",
    "import pandas as pd\n",
    "import plotly as px\n",
    "import matplotlib.pyplot as plt"
   ]
  },
  {
   "cell_type": "markdown",
   "id": "dd2a1545",
   "metadata": {},
   "source": [
    "## DATA DESCRIPTION ##\n",
    "#### We have used UNESCO data on government expenditure in post secondary and tertiary education and unsepcified level of education normalized for purchasing power parity, from 2010-2021 for all countries ####\n",
    "#### Source: [UNESCO](http://data.uis.unesco.org/#) ####"
   ]
  },
  {
   "cell_type": "code",
   "execution_count": 21,
   "id": "d869a1f4",
   "metadata": {},
   "outputs": [
    {
     "data": {
      "text/html": [
       "<div>\n",
       "<style scoped>\n",
       "    .dataframe tbody tr th:only-of-type {\n",
       "        vertical-align: middle;\n",
       "    }\n",
       "\n",
       "    .dataframe tbody tr th {\n",
       "        vertical-align: top;\n",
       "    }\n",
       "\n",
       "    .dataframe thead th {\n",
       "        text-align: right;\n",
       "    }\n",
       "</style>\n",
       "<table border=\"1\" class=\"dataframe\">\n",
       "  <thead>\n",
       "    <tr style=\"text-align: right;\">\n",
       "      <th></th>\n",
       "      <th>NATMON_IND</th>\n",
       "      <th>Indicator</th>\n",
       "      <th>LOCATION</th>\n",
       "      <th>Country</th>\n",
       "      <th>TIME</th>\n",
       "      <th>Time</th>\n",
       "      <th>Value</th>\n",
       "      <th>Flag Codes</th>\n",
       "      <th>Flags</th>\n",
       "    </tr>\n",
       "  </thead>\n",
       "  <tbody>\n",
       "    <tr>\n",
       "      <th>0</th>\n",
       "      <td>X_PPPCONST_UK_FSGOV</td>\n",
       "      <td>Government expenditure on education not specif...</td>\n",
       "      <td>SSD</td>\n",
       "      <td>South Sudan</td>\n",
       "      <td>2011</td>\n",
       "      <td>2011</td>\n",
       "      <td>NaN</td>\n",
       "      <td>n</td>\n",
       "      <td>Magnitude nil or negligible</td>\n",
       "    </tr>\n",
       "    <tr>\n",
       "      <th>1</th>\n",
       "      <td>X_PPPCONST_UK_FSGOV</td>\n",
       "      <td>Government expenditure on education not specif...</td>\n",
       "      <td>SSD</td>\n",
       "      <td>South Sudan</td>\n",
       "      <td>2013</td>\n",
       "      <td>2013</td>\n",
       "      <td>NaN</td>\n",
       "      <td>n</td>\n",
       "      <td>Magnitude nil or negligible</td>\n",
       "    </tr>\n",
       "    <tr>\n",
       "      <th>2</th>\n",
       "      <td>X_PPPCONST_UK_FSGOV</td>\n",
       "      <td>Government expenditure on education not specif...</td>\n",
       "      <td>SSD</td>\n",
       "      <td>South Sudan</td>\n",
       "      <td>2014</td>\n",
       "      <td>2014</td>\n",
       "      <td>NaN</td>\n",
       "      <td>n</td>\n",
       "      <td>Magnitude nil or negligible</td>\n",
       "    </tr>\n",
       "    <tr>\n",
       "      <th>3</th>\n",
       "      <td>X_PPPCONST_UK_FSGOV</td>\n",
       "      <td>Government expenditure on education not specif...</td>\n",
       "      <td>SSD</td>\n",
       "      <td>South Sudan</td>\n",
       "      <td>2015</td>\n",
       "      <td>2015</td>\n",
       "      <td>NaN</td>\n",
       "      <td>n</td>\n",
       "      <td>Magnitude nil or negligible</td>\n",
       "    </tr>\n",
       "    <tr>\n",
       "      <th>4</th>\n",
       "      <td>X_PPPCONST_UK_FSGOV</td>\n",
       "      <td>Government expenditure on education not specif...</td>\n",
       "      <td>SSD</td>\n",
       "      <td>South Sudan</td>\n",
       "      <td>2016</td>\n",
       "      <td>2016</td>\n",
       "      <td>NaN</td>\n",
       "      <td>n</td>\n",
       "      <td>Magnitude nil or negligible</td>\n",
       "    </tr>\n",
       "    <tr>\n",
       "      <th>5</th>\n",
       "      <td>X_PPPCONST_UK_FSGOV</td>\n",
       "      <td>Government expenditure on education not specif...</td>\n",
       "      <td>SSD</td>\n",
       "      <td>South Sudan</td>\n",
       "      <td>2017</td>\n",
       "      <td>2017</td>\n",
       "      <td>NaN</td>\n",
       "      <td>n</td>\n",
       "      <td>Magnitude nil or negligible</td>\n",
       "    </tr>\n",
       "    <tr>\n",
       "      <th>6</th>\n",
       "      <td>X_PPPCONST_4_FSGOV</td>\n",
       "      <td>Government expenditure on post-secondary non-t...</td>\n",
       "      <td>ISL</td>\n",
       "      <td>Iceland</td>\n",
       "      <td>2010</td>\n",
       "      <td>2010</td>\n",
       "      <td>NaN</td>\n",
       "      <td>n</td>\n",
       "      <td>Magnitude nil or negligible</td>\n",
       "    </tr>\n",
       "    <tr>\n",
       "      <th>7</th>\n",
       "      <td>X_PPPCONST_4_FSGOV</td>\n",
       "      <td>Government expenditure on post-secondary non-t...</td>\n",
       "      <td>ISL</td>\n",
       "      <td>Iceland</td>\n",
       "      <td>2011</td>\n",
       "      <td>2011</td>\n",
       "      <td>NaN</td>\n",
       "      <td>n</td>\n",
       "      <td>Magnitude nil or negligible</td>\n",
       "    </tr>\n",
       "    <tr>\n",
       "      <th>8</th>\n",
       "      <td>X_PPPCONST_4_FSGOV</td>\n",
       "      <td>Government expenditure on post-secondary non-t...</td>\n",
       "      <td>ISL</td>\n",
       "      <td>Iceland</td>\n",
       "      <td>2012</td>\n",
       "      <td>2012</td>\n",
       "      <td>8.34555</td>\n",
       "      <td>NaN</td>\n",
       "      <td>NaN</td>\n",
       "    </tr>\n",
       "    <tr>\n",
       "      <th>9</th>\n",
       "      <td>X_PPPCONST_4_FSGOV</td>\n",
       "      <td>Government expenditure on post-secondary non-t...</td>\n",
       "      <td>ISL</td>\n",
       "      <td>Iceland</td>\n",
       "      <td>2013</td>\n",
       "      <td>2013</td>\n",
       "      <td>8.43417</td>\n",
       "      <td>NaN</td>\n",
       "      <td>NaN</td>\n",
       "    </tr>\n",
       "  </tbody>\n",
       "</table>\n",
       "</div>"
      ],
      "text/plain": [
       "            NATMON_IND                                          Indicator  \\\n",
       "0  X_PPPCONST_UK_FSGOV  Government expenditure on education not specif...   \n",
       "1  X_PPPCONST_UK_FSGOV  Government expenditure on education not specif...   \n",
       "2  X_PPPCONST_UK_FSGOV  Government expenditure on education not specif...   \n",
       "3  X_PPPCONST_UK_FSGOV  Government expenditure on education not specif...   \n",
       "4  X_PPPCONST_UK_FSGOV  Government expenditure on education not specif...   \n",
       "5  X_PPPCONST_UK_FSGOV  Government expenditure on education not specif...   \n",
       "6   X_PPPCONST_4_FSGOV  Government expenditure on post-secondary non-t...   \n",
       "7   X_PPPCONST_4_FSGOV  Government expenditure on post-secondary non-t...   \n",
       "8   X_PPPCONST_4_FSGOV  Government expenditure on post-secondary non-t...   \n",
       "9   X_PPPCONST_4_FSGOV  Government expenditure on post-secondary non-t...   \n",
       "\n",
       "  LOCATION      Country  TIME  Time    Value Flag Codes  \\\n",
       "0      SSD  South Sudan  2011  2011      NaN          n   \n",
       "1      SSD  South Sudan  2013  2013      NaN          n   \n",
       "2      SSD  South Sudan  2014  2014      NaN          n   \n",
       "3      SSD  South Sudan  2015  2015      NaN          n   \n",
       "4      SSD  South Sudan  2016  2016      NaN          n   \n",
       "5      SSD  South Sudan  2017  2017      NaN          n   \n",
       "6      ISL      Iceland  2010  2010      NaN          n   \n",
       "7      ISL      Iceland  2011  2011      NaN          n   \n",
       "8      ISL      Iceland  2012  2012  8.34555        NaN   \n",
       "9      ISL      Iceland  2013  2013  8.43417        NaN   \n",
       "\n",
       "                         Flags  \n",
       "0  Magnitude nil or negligible  \n",
       "1  Magnitude nil or negligible  \n",
       "2  Magnitude nil or negligible  \n",
       "3  Magnitude nil or negligible  \n",
       "4  Magnitude nil or negligible  \n",
       "5  Magnitude nil or negligible  \n",
       "6  Magnitude nil or negligible  \n",
       "7  Magnitude nil or negligible  \n",
       "8                          NaN  \n",
       "9                          NaN  "
      ]
     },
     "execution_count": 21,
     "metadata": {},
     "output_type": "execute_result"
    }
   ],
   "source": [
    "exp = pd.read_csv('education_expenditure.csv')\n",
    "exp.head(10)"
   ]
  },
  {
   "cell_type": "code",
   "execution_count": 80,
   "id": "41616671",
   "metadata": {},
   "outputs": [
    {
     "data": {
      "text/html": [
       "<div>\n",
       "<style scoped>\n",
       "    .dataframe tbody tr th:only-of-type {\n",
       "        vertical-align: middle;\n",
       "    }\n",
       "\n",
       "    .dataframe tbody tr th {\n",
       "        vertical-align: top;\n",
       "    }\n",
       "\n",
       "    .dataframe thead th {\n",
       "        text-align: right;\n",
       "    }\n",
       "</style>\n",
       "<table border=\"1\" class=\"dataframe\">\n",
       "  <thead>\n",
       "    <tr style=\"text-align: right;\">\n",
       "      <th></th>\n",
       "      <th>Value</th>\n",
       "      <th>Country</th>\n",
       "      <th>LOCATION</th>\n",
       "    </tr>\n",
       "  </thead>\n",
       "  <tbody>\n",
       "    <tr>\n",
       "      <th>14</th>\n",
       "      <td>1886.53763</td>\n",
       "      <td>Iceland</td>\n",
       "      <td>ISL</td>\n",
       "    </tr>\n",
       "    <tr>\n",
       "      <th>36</th>\n",
       "      <td>22879.78855</td>\n",
       "      <td>Czechia</td>\n",
       "      <td>CZE</td>\n",
       "    </tr>\n",
       "    <tr>\n",
       "      <th>38</th>\n",
       "      <td>208156.50783</td>\n",
       "      <td>France</td>\n",
       "      <td>FRA</td>\n",
       "    </tr>\n",
       "    <tr>\n",
       "      <th>52</th>\n",
       "      <td>7580.92253</td>\n",
       "      <td>Sri Lanka</td>\n",
       "      <td>LKA</td>\n",
       "    </tr>\n",
       "    <tr>\n",
       "      <th>60</th>\n",
       "      <td>3323.46354</td>\n",
       "      <td>Jordan</td>\n",
       "      <td>JOR</td>\n",
       "    </tr>\n",
       "    <tr>\n",
       "      <th>...</th>\n",
       "      <td>...</td>\n",
       "      <td>...</td>\n",
       "      <td>...</td>\n",
       "    </tr>\n",
       "    <tr>\n",
       "      <th>3617</th>\n",
       "      <td>442.98851</td>\n",
       "      <td>Guyana</td>\n",
       "      <td>GUY</td>\n",
       "    </tr>\n",
       "    <tr>\n",
       "      <th>3679</th>\n",
       "      <td>185.73805</td>\n",
       "      <td>Djibouti</td>\n",
       "      <td>DJI</td>\n",
       "    </tr>\n",
       "    <tr>\n",
       "      <th>3729</th>\n",
       "      <td>184.16744</td>\n",
       "      <td>Liberia</td>\n",
       "      <td>LBR</td>\n",
       "    </tr>\n",
       "    <tr>\n",
       "      <th>3741</th>\n",
       "      <td>4963.37696</td>\n",
       "      <td>United Republic of Tanzania</td>\n",
       "      <td>TZA</td>\n",
       "    </tr>\n",
       "    <tr>\n",
       "      <th>3851</th>\n",
       "      <td>2982.59138</td>\n",
       "      <td>Uzbekistan</td>\n",
       "      <td>UZB</td>\n",
       "    </tr>\n",
       "  </tbody>\n",
       "</table>\n",
       "<p>108 rows × 3 columns</p>\n",
       "</div>"
      ],
      "text/plain": [
       "             Value                      Country LOCATION\n",
       "14      1886.53763                      Iceland      ISL\n",
       "36     22879.78855                      Czechia      CZE\n",
       "38    208156.50783                       France      FRA\n",
       "52      7580.92253                    Sri Lanka      LKA\n",
       "60      3323.46354                       Jordan      JOR\n",
       "...            ...                          ...      ...\n",
       "3617     442.98851                       Guyana      GUY\n",
       "3679     185.73805                     Djibouti      DJI\n",
       "3729     184.16744                      Liberia      LBR\n",
       "3741    4963.37696  United Republic of Tanzania      TZA\n",
       "3851    2982.59138                   Uzbekistan      UZB\n",
       "\n",
       "[108 rows x 3 columns]"
      ]
     },
     "execution_count": 80,
     "metadata": {},
     "output_type": "execute_result"
    }
   ],
   "source": [
    "# Plotting data for 2018 - the most recent year with data for most countries\n",
    "exp_2018 = exp[exp.TIME == 2018][['Value','Country','LOCATION']].dropna()\n",
    "# sum all kinds of expenses for each country\n",
    "exp_2018.Value = exp_2018[['Value','LOCATION']].groupby('LOCATION').transform('sum')\n",
    "exp_2018.drop_duplicates('LOCATION', inplace=True)\n",
    "exp_2018"
   ]
  },
  {
   "cell_type": "code",
   "execution_count": 78,
   "id": "45c8fd56",
   "metadata": {
    "scrolled": true
   },
   "outputs": [
    {
     "data": {
      "application/vnd.plotly.v1+json": {
       "config": {
        "plotlyServerURL": "https://plot.ly"
       },
       "data": [
        {
         "coloraxis": "coloraxis",
         "geo": "geo",
         "hovertemplate": "<b>%{hovertext}</b><br><br>LOCATION=%{location}<br>Value=%{z}<extra></extra>",
         "hovertext": [
          "Iceland",
          "Czechia",
          "France",
          "Sri Lanka",
          "Jordan",
          "Republic of Moldova",
          "Slovenia",
          "Lithuania",
          "Rwanda",
          "Serbia",
          "Turkey",
          "Hungary",
          "Austria",
          "Italy",
          "Lesotho",
          "Poland",
          "Saint Lucia",
          "Argentina",
          "Madagascar",
          "Zambia",
          "Slovakia",
          "Jamaica",
          "Azerbaijan",
          "Iran (Islamic Republic of)",
          "Niger",
          "Colombia",
          "Singapore",
          "Guinea",
          "Cambodia",
          "Haiti",
          "Papua New Guinea",
          "Spain",
          "Peru",
          "Netherlands",
          "Ukraine",
          "Australia",
          "Saint Vincent and the Grenadines",
          "China, Hong Kong Special Administrative Region",
          "Côte d'Ivoire",
          "Myanmar",
          "Timor-Leste",
          "Malaysia",
          "Norway",
          "Sierra Leone",
          "Latvia",
          "United Kingdom of Great Britain and Northern Ireland",
          "Georgia",
          "Sweden",
          "Greece",
          "Uganda",
          "Mauritius",
          "Kazakhstan",
          "Belgium",
          "San Marino",
          "New Zealand",
          "Romania",
          "Luxembourg",
          "Bosnia and Herzegovina",
          "Uruguay",
          "Israel",
          "Togo",
          "South Africa",
          "Burkina Faso",
          "Nepal",
          "Denmark",
          "Senegal",
          "Ireland",
          "Portugal",
          "Chad",
          "Zimbabwe",
          "Germany",
          "Chile",
          "Belize",
          "Estonia",
          "Cameroon",
          "Kyrgyzstan",
          "Bhutan",
          "China, Macao Special Administrative Region",
          "Costa Rica",
          "Turks and Caicos Islands",
          "Gambia",
          "Japan",
          "Malawi",
          "Mexico",
          "Kenya",
          "Ghana",
          "Viet Nam",
          "Russian Federation",
          "Burundi",
          "Brazil",
          "United States of America",
          "Finland",
          "Republic of Korea",
          "El Salvador",
          "Benin",
          "Mozambique",
          "Guatemala",
          "Honduras",
          "Dominican Republic",
          "Canada",
          "Switzerland",
          "Sao Tome and Principe",
          "Congo",
          "Guyana",
          "Djibouti",
          "Liberia",
          "United Republic of Tanzania",
          "Uzbekistan"
         ],
         "locations": [
          "ISL",
          "CZE",
          "FRA",
          "LKA",
          "JOR",
          "MDA",
          "SVN",
          "LTU",
          "RWA",
          "SRB",
          "TUR",
          "HUN",
          "AUT",
          "ITA",
          "LSO",
          "POL",
          "LCA",
          "ARG",
          "MDG",
          "ZMB",
          "SVK",
          "JAM",
          "AZE",
          "IRN",
          "NER",
          "COL",
          "SGP",
          "GIN",
          "KHM",
          "HTI",
          "PNG",
          "ESP",
          "PER",
          "NLD",
          "UKR",
          "AUS",
          "VCT",
          "HKG",
          "CIV",
          "MMR",
          "TLS",
          "MYS",
          "NOR",
          "SLE",
          "LVA",
          "GBR",
          "GEO",
          "SWE",
          "GRC",
          "UGA",
          "MUS",
          "KAZ",
          "BEL",
          "SMR",
          "NZL",
          "ROU",
          "LUX",
          "BIH",
          "URY",
          "ISR",
          "TGO",
          "ZAF",
          "BFA",
          "NPL",
          "DNK",
          "SEN",
          "IRL",
          "PRT",
          "TCD",
          "ZWE",
          "DEU",
          "CHL",
          "BLZ",
          "EST",
          "CMR",
          "KGZ",
          "BTN",
          "MAC",
          "CRI",
          "TCA",
          "GMB",
          "JPN",
          "MWI",
          "MEX",
          "KEN",
          "GHA",
          "VNM",
          "RUS",
          "BDI",
          "BRA",
          "USA",
          "FIN",
          "KOR",
          "SLV",
          "BEN",
          "MOZ",
          "GTM",
          "HND",
          "DOM",
          "CAN",
          "CHE",
          "STP",
          "COG",
          "GUY",
          "DJI",
          "LBR",
          "TZA",
          "UZB"
         ],
         "name": "",
         "type": "choropleth",
         "z": [
          1886.53763,
          22879.788549999997,
          208156.50783000002,
          7580.92253,
          3323.4635399999997,
          2113.50499,
          4803.64536,
          4890.281660000001,
          955.87065,
          8872.93542,
          133136.53394,
          19297.964630000002,
          35000.41395,
          131058.85225,
          462.45533,
          69363.18282,
          111.03387000000001,
          63026.2173,
          1230.72209,
          2965.74566,
          8182.955680000001,
          1883.1467599999999,
          4277.59234,
          61287.472980000006,
          1154.48119,
          40564.76309,
          6897.22532,
          888.72529,
          1496.93858,
          573.31208,
          692.31989,
          97225.77105,
          18008.410369999998,
          70482.29321999999,
          36797.00767,
          80005.32454,
          105.38337,
          20621.70491,
          4777.705940000001,
          5824.2678,
          270.66407,
          48380.02647,
          36514.55996,
          1352.47686,
          2996.94651,
          202180.10198,
          2186.93295,
          51685.68035,
          13640.53751,
          1819.60075,
          1482.26516,
          14550.96721,
          47864.87758000001,
          79.99252,
          15772.918099999999,
          26310.81592,
          2885.4233499999996,
          386.92931999999996,
          4906.1576000000005,
          25174.088900000002,
          673.41675,
          57545.97701,
          2328.90479,
          4368.6415,
          7311.6679,
          3939.0754800000004,
          18110.272989999998,
          19910.73419,
          193.91796,
          1772.40717,
          296418.16289,
          31525.71837,
          250.0066,
          3122.94253,
          2913.57241,
          1845.43816,
          569.12779,
          4672.70179,
          9572.08553,
          34.29266,
          119.189,
          194980.98734,
          864.4057,
          135532.14972,
          10782.64737,
          6319.76932,
          30931.18678,
          394032.04276,
          442.58653,
          234873.77534999998,
          251942.55693000002,
          21422.12964,
          116829.01354999999,
          2229.45752,
          1090.65316,
          2123.92496,
          5249.43077,
          3377.5846,
          575.40149,
          28806.50563,
          38123.72285,
          45.17605,
          634.01874,
          442.98851,
          185.73805,
          184.16744,
          4963.37696,
          2982.59138
         ]
        }
       ],
       "layout": {
        "coloraxis": {
         "colorbar": {
          "title": {
           "text": "Value"
          }
         },
         "colorscale": [
          [
           0,
           "#440154"
          ],
          [
           0.1111111111111111,
           "#482878"
          ],
          [
           0.2222222222222222,
           "#3e4989"
          ],
          [
           0.3333333333333333,
           "#31688e"
          ],
          [
           0.4444444444444444,
           "#26828e"
          ],
          [
           0.5555555555555556,
           "#1f9e89"
          ],
          [
           0.6666666666666666,
           "#35b779"
          ],
          [
           0.7777777777777778,
           "#6ece58"
          ],
          [
           0.8888888888888888,
           "#b5de2b"
          ],
          [
           1,
           "#fde725"
          ]
         ]
        },
        "geo": {
         "center": {},
         "domain": {
          "x": [
           0,
           1
          ],
          "y": [
           0,
           1
          ]
         }
        },
        "legend": {
         "tracegroupgap": 0
        },
        "margin": {
         "t": 60
        },
        "template": {
         "data": {
          "bar": [
           {
            "error_x": {
             "color": "#2a3f5f"
            },
            "error_y": {
             "color": "#2a3f5f"
            },
            "marker": {
             "line": {
              "color": "#E5ECF6",
              "width": 0.5
             },
             "pattern": {
              "fillmode": "overlay",
              "size": 10,
              "solidity": 0.2
             }
            },
            "type": "bar"
           }
          ],
          "barpolar": [
           {
            "marker": {
             "line": {
              "color": "#E5ECF6",
              "width": 0.5
             },
             "pattern": {
              "fillmode": "overlay",
              "size": 10,
              "solidity": 0.2
             }
            },
            "type": "barpolar"
           }
          ],
          "carpet": [
           {
            "aaxis": {
             "endlinecolor": "#2a3f5f",
             "gridcolor": "white",
             "linecolor": "white",
             "minorgridcolor": "white",
             "startlinecolor": "#2a3f5f"
            },
            "baxis": {
             "endlinecolor": "#2a3f5f",
             "gridcolor": "white",
             "linecolor": "white",
             "minorgridcolor": "white",
             "startlinecolor": "#2a3f5f"
            },
            "type": "carpet"
           }
          ],
          "choropleth": [
           {
            "colorbar": {
             "outlinewidth": 0,
             "ticks": ""
            },
            "type": "choropleth"
           }
          ],
          "contour": [
           {
            "colorbar": {
             "outlinewidth": 0,
             "ticks": ""
            },
            "colorscale": [
             [
              0,
              "#0d0887"
             ],
             [
              0.1111111111111111,
              "#46039f"
             ],
             [
              0.2222222222222222,
              "#7201a8"
             ],
             [
              0.3333333333333333,
              "#9c179e"
             ],
             [
              0.4444444444444444,
              "#bd3786"
             ],
             [
              0.5555555555555556,
              "#d8576b"
             ],
             [
              0.6666666666666666,
              "#ed7953"
             ],
             [
              0.7777777777777778,
              "#fb9f3a"
             ],
             [
              0.8888888888888888,
              "#fdca26"
             ],
             [
              1,
              "#f0f921"
             ]
            ],
            "type": "contour"
           }
          ],
          "contourcarpet": [
           {
            "colorbar": {
             "outlinewidth": 0,
             "ticks": ""
            },
            "type": "contourcarpet"
           }
          ],
          "heatmap": [
           {
            "colorbar": {
             "outlinewidth": 0,
             "ticks": ""
            },
            "colorscale": [
             [
              0,
              "#0d0887"
             ],
             [
              0.1111111111111111,
              "#46039f"
             ],
             [
              0.2222222222222222,
              "#7201a8"
             ],
             [
              0.3333333333333333,
              "#9c179e"
             ],
             [
              0.4444444444444444,
              "#bd3786"
             ],
             [
              0.5555555555555556,
              "#d8576b"
             ],
             [
              0.6666666666666666,
              "#ed7953"
             ],
             [
              0.7777777777777778,
              "#fb9f3a"
             ],
             [
              0.8888888888888888,
              "#fdca26"
             ],
             [
              1,
              "#f0f921"
             ]
            ],
            "type": "heatmap"
           }
          ],
          "heatmapgl": [
           {
            "colorbar": {
             "outlinewidth": 0,
             "ticks": ""
            },
            "colorscale": [
             [
              0,
              "#0d0887"
             ],
             [
              0.1111111111111111,
              "#46039f"
             ],
             [
              0.2222222222222222,
              "#7201a8"
             ],
             [
              0.3333333333333333,
              "#9c179e"
             ],
             [
              0.4444444444444444,
              "#bd3786"
             ],
             [
              0.5555555555555556,
              "#d8576b"
             ],
             [
              0.6666666666666666,
              "#ed7953"
             ],
             [
              0.7777777777777778,
              "#fb9f3a"
             ],
             [
              0.8888888888888888,
              "#fdca26"
             ],
             [
              1,
              "#f0f921"
             ]
            ],
            "type": "heatmapgl"
           }
          ],
          "histogram": [
           {
            "marker": {
             "pattern": {
              "fillmode": "overlay",
              "size": 10,
              "solidity": 0.2
             }
            },
            "type": "histogram"
           }
          ],
          "histogram2d": [
           {
            "colorbar": {
             "outlinewidth": 0,
             "ticks": ""
            },
            "colorscale": [
             [
              0,
              "#0d0887"
             ],
             [
              0.1111111111111111,
              "#46039f"
             ],
             [
              0.2222222222222222,
              "#7201a8"
             ],
             [
              0.3333333333333333,
              "#9c179e"
             ],
             [
              0.4444444444444444,
              "#bd3786"
             ],
             [
              0.5555555555555556,
              "#d8576b"
             ],
             [
              0.6666666666666666,
              "#ed7953"
             ],
             [
              0.7777777777777778,
              "#fb9f3a"
             ],
             [
              0.8888888888888888,
              "#fdca26"
             ],
             [
              1,
              "#f0f921"
             ]
            ],
            "type": "histogram2d"
           }
          ],
          "histogram2dcontour": [
           {
            "colorbar": {
             "outlinewidth": 0,
             "ticks": ""
            },
            "colorscale": [
             [
              0,
              "#0d0887"
             ],
             [
              0.1111111111111111,
              "#46039f"
             ],
             [
              0.2222222222222222,
              "#7201a8"
             ],
             [
              0.3333333333333333,
              "#9c179e"
             ],
             [
              0.4444444444444444,
              "#bd3786"
             ],
             [
              0.5555555555555556,
              "#d8576b"
             ],
             [
              0.6666666666666666,
              "#ed7953"
             ],
             [
              0.7777777777777778,
              "#fb9f3a"
             ],
             [
              0.8888888888888888,
              "#fdca26"
             ],
             [
              1,
              "#f0f921"
             ]
            ],
            "type": "histogram2dcontour"
           }
          ],
          "mesh3d": [
           {
            "colorbar": {
             "outlinewidth": 0,
             "ticks": ""
            },
            "type": "mesh3d"
           }
          ],
          "parcoords": [
           {
            "line": {
             "colorbar": {
              "outlinewidth": 0,
              "ticks": ""
             }
            },
            "type": "parcoords"
           }
          ],
          "pie": [
           {
            "automargin": true,
            "type": "pie"
           }
          ],
          "scatter": [
           {
            "marker": {
             "colorbar": {
              "outlinewidth": 0,
              "ticks": ""
             }
            },
            "type": "scatter"
           }
          ],
          "scatter3d": [
           {
            "line": {
             "colorbar": {
              "outlinewidth": 0,
              "ticks": ""
             }
            },
            "marker": {
             "colorbar": {
              "outlinewidth": 0,
              "ticks": ""
             }
            },
            "type": "scatter3d"
           }
          ],
          "scattercarpet": [
           {
            "marker": {
             "colorbar": {
              "outlinewidth": 0,
              "ticks": ""
             }
            },
            "type": "scattercarpet"
           }
          ],
          "scattergeo": [
           {
            "marker": {
             "colorbar": {
              "outlinewidth": 0,
              "ticks": ""
             }
            },
            "type": "scattergeo"
           }
          ],
          "scattergl": [
           {
            "marker": {
             "colorbar": {
              "outlinewidth": 0,
              "ticks": ""
             }
            },
            "type": "scattergl"
           }
          ],
          "scattermapbox": [
           {
            "marker": {
             "colorbar": {
              "outlinewidth": 0,
              "ticks": ""
             }
            },
            "type": "scattermapbox"
           }
          ],
          "scatterpolar": [
           {
            "marker": {
             "colorbar": {
              "outlinewidth": 0,
              "ticks": ""
             }
            },
            "type": "scatterpolar"
           }
          ],
          "scatterpolargl": [
           {
            "marker": {
             "colorbar": {
              "outlinewidth": 0,
              "ticks": ""
             }
            },
            "type": "scatterpolargl"
           }
          ],
          "scatterternary": [
           {
            "marker": {
             "colorbar": {
              "outlinewidth": 0,
              "ticks": ""
             }
            },
            "type": "scatterternary"
           }
          ],
          "surface": [
           {
            "colorbar": {
             "outlinewidth": 0,
             "ticks": ""
            },
            "colorscale": [
             [
              0,
              "#0d0887"
             ],
             [
              0.1111111111111111,
              "#46039f"
             ],
             [
              0.2222222222222222,
              "#7201a8"
             ],
             [
              0.3333333333333333,
              "#9c179e"
             ],
             [
              0.4444444444444444,
              "#bd3786"
             ],
             [
              0.5555555555555556,
              "#d8576b"
             ],
             [
              0.6666666666666666,
              "#ed7953"
             ],
             [
              0.7777777777777778,
              "#fb9f3a"
             ],
             [
              0.8888888888888888,
              "#fdca26"
             ],
             [
              1,
              "#f0f921"
             ]
            ],
            "type": "surface"
           }
          ],
          "table": [
           {
            "cells": {
             "fill": {
              "color": "#EBF0F8"
             },
             "line": {
              "color": "white"
             }
            },
            "header": {
             "fill": {
              "color": "#C8D4E3"
             },
             "line": {
              "color": "white"
             }
            },
            "type": "table"
           }
          ]
         },
         "layout": {
          "annotationdefaults": {
           "arrowcolor": "#2a3f5f",
           "arrowhead": 0,
           "arrowwidth": 1
          },
          "autotypenumbers": "strict",
          "coloraxis": {
           "colorbar": {
            "outlinewidth": 0,
            "ticks": ""
           }
          },
          "colorscale": {
           "diverging": [
            [
             0,
             "#8e0152"
            ],
            [
             0.1,
             "#c51b7d"
            ],
            [
             0.2,
             "#de77ae"
            ],
            [
             0.3,
             "#f1b6da"
            ],
            [
             0.4,
             "#fde0ef"
            ],
            [
             0.5,
             "#f7f7f7"
            ],
            [
             0.6,
             "#e6f5d0"
            ],
            [
             0.7,
             "#b8e186"
            ],
            [
             0.8,
             "#7fbc41"
            ],
            [
             0.9,
             "#4d9221"
            ],
            [
             1,
             "#276419"
            ]
           ],
           "sequential": [
            [
             0,
             "#0d0887"
            ],
            [
             0.1111111111111111,
             "#46039f"
            ],
            [
             0.2222222222222222,
             "#7201a8"
            ],
            [
             0.3333333333333333,
             "#9c179e"
            ],
            [
             0.4444444444444444,
             "#bd3786"
            ],
            [
             0.5555555555555556,
             "#d8576b"
            ],
            [
             0.6666666666666666,
             "#ed7953"
            ],
            [
             0.7777777777777778,
             "#fb9f3a"
            ],
            [
             0.8888888888888888,
             "#fdca26"
            ],
            [
             1,
             "#f0f921"
            ]
           ],
           "sequentialminus": [
            [
             0,
             "#0d0887"
            ],
            [
             0.1111111111111111,
             "#46039f"
            ],
            [
             0.2222222222222222,
             "#7201a8"
            ],
            [
             0.3333333333333333,
             "#9c179e"
            ],
            [
             0.4444444444444444,
             "#bd3786"
            ],
            [
             0.5555555555555556,
             "#d8576b"
            ],
            [
             0.6666666666666666,
             "#ed7953"
            ],
            [
             0.7777777777777778,
             "#fb9f3a"
            ],
            [
             0.8888888888888888,
             "#fdca26"
            ],
            [
             1,
             "#f0f921"
            ]
           ]
          },
          "colorway": [
           "#636efa",
           "#EF553B",
           "#00cc96",
           "#ab63fa",
           "#FFA15A",
           "#19d3f3",
           "#FF6692",
           "#B6E880",
           "#FF97FF",
           "#FECB52"
          ],
          "font": {
           "color": "#2a3f5f"
          },
          "geo": {
           "bgcolor": "white",
           "lakecolor": "white",
           "landcolor": "#E5ECF6",
           "showlakes": true,
           "showland": true,
           "subunitcolor": "white"
          },
          "hoverlabel": {
           "align": "left"
          },
          "hovermode": "closest",
          "mapbox": {
           "style": "light"
          },
          "paper_bgcolor": "white",
          "plot_bgcolor": "#E5ECF6",
          "polar": {
           "angularaxis": {
            "gridcolor": "white",
            "linecolor": "white",
            "ticks": ""
           },
           "bgcolor": "#E5ECF6",
           "radialaxis": {
            "gridcolor": "white",
            "linecolor": "white",
            "ticks": ""
           }
          },
          "scene": {
           "xaxis": {
            "backgroundcolor": "#E5ECF6",
            "gridcolor": "white",
            "gridwidth": 2,
            "linecolor": "white",
            "showbackground": true,
            "ticks": "",
            "zerolinecolor": "white"
           },
           "yaxis": {
            "backgroundcolor": "#E5ECF6",
            "gridcolor": "white",
            "gridwidth": 2,
            "linecolor": "white",
            "showbackground": true,
            "ticks": "",
            "zerolinecolor": "white"
           },
           "zaxis": {
            "backgroundcolor": "#E5ECF6",
            "gridcolor": "white",
            "gridwidth": 2,
            "linecolor": "white",
            "showbackground": true,
            "ticks": "",
            "zerolinecolor": "white"
           }
          },
          "shapedefaults": {
           "line": {
            "color": "#2a3f5f"
           }
          },
          "ternary": {
           "aaxis": {
            "gridcolor": "white",
            "linecolor": "white",
            "ticks": ""
           },
           "baxis": {
            "gridcolor": "white",
            "linecolor": "white",
            "ticks": ""
           },
           "bgcolor": "#E5ECF6",
           "caxis": {
            "gridcolor": "white",
            "linecolor": "white",
            "ticks": ""
           }
          },
          "title": {
           "x": 0.05
          },
          "xaxis": {
           "automargin": true,
           "gridcolor": "white",
           "linecolor": "white",
           "ticks": "",
           "title": {
            "standoff": 15
           },
           "zerolinecolor": "white",
           "zerolinewidth": 2
          },
          "yaxis": {
           "automargin": true,
           "gridcolor": "white",
           "linecolor": "white",
           "ticks": "",
           "title": {
            "standoff": 15
           },
           "zerolinecolor": "white",
           "zerolinewidth": 2
          }
         }
        }
       }
      },
      "text/html": [
       "<div>                            <div id=\"3a1601f4-2c39-4d27-9e61-0fb33cf79286\" class=\"plotly-graph-div\" style=\"height:525px; width:100%;\"></div>            <script type=\"text/javascript\">                require([\"plotly\"], function(Plotly) {                    window.PLOTLYENV=window.PLOTLYENV || {};                                    if (document.getElementById(\"3a1601f4-2c39-4d27-9e61-0fb33cf79286\")) {                    Plotly.newPlot(                        \"3a1601f4-2c39-4d27-9e61-0fb33cf79286\",                        [{\"coloraxis\":\"coloraxis\",\"geo\":\"geo\",\"hovertemplate\":\"<b>%{hovertext}</b><br><br>LOCATION=%{location}<br>Value=%{z}<extra></extra>\",\"hovertext\":[\"Iceland\",\"Czechia\",\"France\",\"Sri Lanka\",\"Jordan\",\"Republic of Moldova\",\"Slovenia\",\"Lithuania\",\"Rwanda\",\"Serbia\",\"Turkey\",\"Hungary\",\"Austria\",\"Italy\",\"Lesotho\",\"Poland\",\"Saint Lucia\",\"Argentina\",\"Madagascar\",\"Zambia\",\"Slovakia\",\"Jamaica\",\"Azerbaijan\",\"Iran (Islamic Republic of)\",\"Niger\",\"Colombia\",\"Singapore\",\"Guinea\",\"Cambodia\",\"Haiti\",\"Papua New Guinea\",\"Spain\",\"Peru\",\"Netherlands\",\"Ukraine\",\"Australia\",\"Saint Vincent and the Grenadines\",\"China, Hong Kong Special Administrative Region\",\"C\\u00f4te d'Ivoire\",\"Myanmar\",\"Timor-Leste\",\"Malaysia\",\"Norway\",\"Sierra Leone\",\"Latvia\",\"United Kingdom of Great Britain and Northern Ireland\",\"Georgia\",\"Sweden\",\"Greece\",\"Uganda\",\"Mauritius\",\"Kazakhstan\",\"Belgium\",\"San Marino\",\"New Zealand\",\"Romania\",\"Luxembourg\",\"Bosnia and Herzegovina\",\"Uruguay\",\"Israel\",\"Togo\",\"South Africa\",\"Burkina Faso\",\"Nepal\",\"Denmark\",\"Senegal\",\"Ireland\",\"Portugal\",\"Chad\",\"Zimbabwe\",\"Germany\",\"Chile\",\"Belize\",\"Estonia\",\"Cameroon\",\"Kyrgyzstan\",\"Bhutan\",\"China, Macao Special Administrative Region\",\"Costa Rica\",\"Turks and Caicos Islands\",\"Gambia\",\"Japan\",\"Malawi\",\"Mexico\",\"Kenya\",\"Ghana\",\"Viet Nam\",\"Russian Federation\",\"Burundi\",\"Brazil\",\"United States of America\",\"Finland\",\"Republic of Korea\",\"El Salvador\",\"Benin\",\"Mozambique\",\"Guatemala\",\"Honduras\",\"Dominican Republic\",\"Canada\",\"Switzerland\",\"Sao Tome and Principe\",\"Congo\",\"Guyana\",\"Djibouti\",\"Liberia\",\"United Republic of Tanzania\",\"Uzbekistan\"],\"locations\":[\"ISL\",\"CZE\",\"FRA\",\"LKA\",\"JOR\",\"MDA\",\"SVN\",\"LTU\",\"RWA\",\"SRB\",\"TUR\",\"HUN\",\"AUT\",\"ITA\",\"LSO\",\"POL\",\"LCA\",\"ARG\",\"MDG\",\"ZMB\",\"SVK\",\"JAM\",\"AZE\",\"IRN\",\"NER\",\"COL\",\"SGP\",\"GIN\",\"KHM\",\"HTI\",\"PNG\",\"ESP\",\"PER\",\"NLD\",\"UKR\",\"AUS\",\"VCT\",\"HKG\",\"CIV\",\"MMR\",\"TLS\",\"MYS\",\"NOR\",\"SLE\",\"LVA\",\"GBR\",\"GEO\",\"SWE\",\"GRC\",\"UGA\",\"MUS\",\"KAZ\",\"BEL\",\"SMR\",\"NZL\",\"ROU\",\"LUX\",\"BIH\",\"URY\",\"ISR\",\"TGO\",\"ZAF\",\"BFA\",\"NPL\",\"DNK\",\"SEN\",\"IRL\",\"PRT\",\"TCD\",\"ZWE\",\"DEU\",\"CHL\",\"BLZ\",\"EST\",\"CMR\",\"KGZ\",\"BTN\",\"MAC\",\"CRI\",\"TCA\",\"GMB\",\"JPN\",\"MWI\",\"MEX\",\"KEN\",\"GHA\",\"VNM\",\"RUS\",\"BDI\",\"BRA\",\"USA\",\"FIN\",\"KOR\",\"SLV\",\"BEN\",\"MOZ\",\"GTM\",\"HND\",\"DOM\",\"CAN\",\"CHE\",\"STP\",\"COG\",\"GUY\",\"DJI\",\"LBR\",\"TZA\",\"UZB\"],\"name\":\"\",\"type\":\"choropleth\",\"z\":[1886.53763,22879.788549999997,208156.50783000002,7580.92253,3323.4635399999997,2113.50499,4803.64536,4890.281660000001,955.87065,8872.93542,133136.53394,19297.964630000002,35000.41395,131058.85225,462.45533,69363.18282,111.03387000000001,63026.2173,1230.72209,2965.74566,8182.955680000001,1883.1467599999999,4277.59234,61287.472980000006,1154.48119,40564.76309,6897.22532,888.72529,1496.93858,573.31208,692.31989,97225.77105,18008.410369999998,70482.29321999999,36797.00767,80005.32454,105.38337,20621.70491,4777.705940000001,5824.2678,270.66407,48380.02647,36514.55996,1352.47686,2996.94651,202180.10198,2186.93295,51685.68035,13640.53751,1819.60075,1482.26516,14550.96721,47864.87758000001,79.99252,15772.918099999999,26310.81592,2885.4233499999996,386.92931999999996,4906.1576000000005,25174.088900000002,673.41675,57545.97701,2328.90479,4368.6415,7311.6679,3939.0754800000004,18110.272989999998,19910.73419,193.91796,1772.40717,296418.16289,31525.71837,250.0066,3122.94253,2913.57241,1845.43816,569.12779,4672.70179,9572.08553,34.29266,119.189,194980.98734,864.4057,135532.14972,10782.64737,6319.76932,30931.18678,394032.04276,442.58653,234873.77534999998,251942.55693000002,21422.12964,116829.01354999999,2229.45752,1090.65316,2123.92496,5249.43077,3377.5846,575.40149,28806.50563,38123.72285,45.17605,634.01874,442.98851,185.73805,184.16744,4963.37696,2982.59138]}],                        {\"coloraxis\":{\"colorbar\":{\"title\":{\"text\":\"Value\"}},\"colorscale\":[[0.0,\"#440154\"],[0.1111111111111111,\"#482878\"],[0.2222222222222222,\"#3e4989\"],[0.3333333333333333,\"#31688e\"],[0.4444444444444444,\"#26828e\"],[0.5555555555555556,\"#1f9e89\"],[0.6666666666666666,\"#35b779\"],[0.7777777777777778,\"#6ece58\"],[0.8888888888888888,\"#b5de2b\"],[1.0,\"#fde725\"]]},\"geo\":{\"center\":{},\"domain\":{\"x\":[0.0,1.0],\"y\":[0.0,1.0]}},\"legend\":{\"tracegroupgap\":0},\"margin\":{\"t\":60},\"template\":{\"data\":{\"bar\":[{\"error_x\":{\"color\":\"#2a3f5f\"},\"error_y\":{\"color\":\"#2a3f5f\"},\"marker\":{\"line\":{\"color\":\"#E5ECF6\",\"width\":0.5},\"pattern\":{\"fillmode\":\"overlay\",\"size\":10,\"solidity\":0.2}},\"type\":\"bar\"}],\"barpolar\":[{\"marker\":{\"line\":{\"color\":\"#E5ECF6\",\"width\":0.5},\"pattern\":{\"fillmode\":\"overlay\",\"size\":10,\"solidity\":0.2}},\"type\":\"barpolar\"}],\"carpet\":[{\"aaxis\":{\"endlinecolor\":\"#2a3f5f\",\"gridcolor\":\"white\",\"linecolor\":\"white\",\"minorgridcolor\":\"white\",\"startlinecolor\":\"#2a3f5f\"},\"baxis\":{\"endlinecolor\":\"#2a3f5f\",\"gridcolor\":\"white\",\"linecolor\":\"white\",\"minorgridcolor\":\"white\",\"startlinecolor\":\"#2a3f5f\"},\"type\":\"carpet\"}],\"choropleth\":[{\"colorbar\":{\"outlinewidth\":0,\"ticks\":\"\"},\"type\":\"choropleth\"}],\"contour\":[{\"colorbar\":{\"outlinewidth\":0,\"ticks\":\"\"},\"colorscale\":[[0.0,\"#0d0887\"],[0.1111111111111111,\"#46039f\"],[0.2222222222222222,\"#7201a8\"],[0.3333333333333333,\"#9c179e\"],[0.4444444444444444,\"#bd3786\"],[0.5555555555555556,\"#d8576b\"],[0.6666666666666666,\"#ed7953\"],[0.7777777777777778,\"#fb9f3a\"],[0.8888888888888888,\"#fdca26\"],[1.0,\"#f0f921\"]],\"type\":\"contour\"}],\"contourcarpet\":[{\"colorbar\":{\"outlinewidth\":0,\"ticks\":\"\"},\"type\":\"contourcarpet\"}],\"heatmap\":[{\"colorbar\":{\"outlinewidth\":0,\"ticks\":\"\"},\"colorscale\":[[0.0,\"#0d0887\"],[0.1111111111111111,\"#46039f\"],[0.2222222222222222,\"#7201a8\"],[0.3333333333333333,\"#9c179e\"],[0.4444444444444444,\"#bd3786\"],[0.5555555555555556,\"#d8576b\"],[0.6666666666666666,\"#ed7953\"],[0.7777777777777778,\"#fb9f3a\"],[0.8888888888888888,\"#fdca26\"],[1.0,\"#f0f921\"]],\"type\":\"heatmap\"}],\"heatmapgl\":[{\"colorbar\":{\"outlinewidth\":0,\"ticks\":\"\"},\"colorscale\":[[0.0,\"#0d0887\"],[0.1111111111111111,\"#46039f\"],[0.2222222222222222,\"#7201a8\"],[0.3333333333333333,\"#9c179e\"],[0.4444444444444444,\"#bd3786\"],[0.5555555555555556,\"#d8576b\"],[0.6666666666666666,\"#ed7953\"],[0.7777777777777778,\"#fb9f3a\"],[0.8888888888888888,\"#fdca26\"],[1.0,\"#f0f921\"]],\"type\":\"heatmapgl\"}],\"histogram\":[{\"marker\":{\"pattern\":{\"fillmode\":\"overlay\",\"size\":10,\"solidity\":0.2}},\"type\":\"histogram\"}],\"histogram2d\":[{\"colorbar\":{\"outlinewidth\":0,\"ticks\":\"\"},\"colorscale\":[[0.0,\"#0d0887\"],[0.1111111111111111,\"#46039f\"],[0.2222222222222222,\"#7201a8\"],[0.3333333333333333,\"#9c179e\"],[0.4444444444444444,\"#bd3786\"],[0.5555555555555556,\"#d8576b\"],[0.6666666666666666,\"#ed7953\"],[0.7777777777777778,\"#fb9f3a\"],[0.8888888888888888,\"#fdca26\"],[1.0,\"#f0f921\"]],\"type\":\"histogram2d\"}],\"histogram2dcontour\":[{\"colorbar\":{\"outlinewidth\":0,\"ticks\":\"\"},\"colorscale\":[[0.0,\"#0d0887\"],[0.1111111111111111,\"#46039f\"],[0.2222222222222222,\"#7201a8\"],[0.3333333333333333,\"#9c179e\"],[0.4444444444444444,\"#bd3786\"],[0.5555555555555556,\"#d8576b\"],[0.6666666666666666,\"#ed7953\"],[0.7777777777777778,\"#fb9f3a\"],[0.8888888888888888,\"#fdca26\"],[1.0,\"#f0f921\"]],\"type\":\"histogram2dcontour\"}],\"mesh3d\":[{\"colorbar\":{\"outlinewidth\":0,\"ticks\":\"\"},\"type\":\"mesh3d\"}],\"parcoords\":[{\"line\":{\"colorbar\":{\"outlinewidth\":0,\"ticks\":\"\"}},\"type\":\"parcoords\"}],\"pie\":[{\"automargin\":true,\"type\":\"pie\"}],\"scatter\":[{\"marker\":{\"colorbar\":{\"outlinewidth\":0,\"ticks\":\"\"}},\"type\":\"scatter\"}],\"scatter3d\":[{\"line\":{\"colorbar\":{\"outlinewidth\":0,\"ticks\":\"\"}},\"marker\":{\"colorbar\":{\"outlinewidth\":0,\"ticks\":\"\"}},\"type\":\"scatter3d\"}],\"scattercarpet\":[{\"marker\":{\"colorbar\":{\"outlinewidth\":0,\"ticks\":\"\"}},\"type\":\"scattercarpet\"}],\"scattergeo\":[{\"marker\":{\"colorbar\":{\"outlinewidth\":0,\"ticks\":\"\"}},\"type\":\"scattergeo\"}],\"scattergl\":[{\"marker\":{\"colorbar\":{\"outlinewidth\":0,\"ticks\":\"\"}},\"type\":\"scattergl\"}],\"scattermapbox\":[{\"marker\":{\"colorbar\":{\"outlinewidth\":0,\"ticks\":\"\"}},\"type\":\"scattermapbox\"}],\"scatterpolar\":[{\"marker\":{\"colorbar\":{\"outlinewidth\":0,\"ticks\":\"\"}},\"type\":\"scatterpolar\"}],\"scatterpolargl\":[{\"marker\":{\"colorbar\":{\"outlinewidth\":0,\"ticks\":\"\"}},\"type\":\"scatterpolargl\"}],\"scatterternary\":[{\"marker\":{\"colorbar\":{\"outlinewidth\":0,\"ticks\":\"\"}},\"type\":\"scatterternary\"}],\"surface\":[{\"colorbar\":{\"outlinewidth\":0,\"ticks\":\"\"},\"colorscale\":[[0.0,\"#0d0887\"],[0.1111111111111111,\"#46039f\"],[0.2222222222222222,\"#7201a8\"],[0.3333333333333333,\"#9c179e\"],[0.4444444444444444,\"#bd3786\"],[0.5555555555555556,\"#d8576b\"],[0.6666666666666666,\"#ed7953\"],[0.7777777777777778,\"#fb9f3a\"],[0.8888888888888888,\"#fdca26\"],[1.0,\"#f0f921\"]],\"type\":\"surface\"}],\"table\":[{\"cells\":{\"fill\":{\"color\":\"#EBF0F8\"},\"line\":{\"color\":\"white\"}},\"header\":{\"fill\":{\"color\":\"#C8D4E3\"},\"line\":{\"color\":\"white\"}},\"type\":\"table\"}]},\"layout\":{\"annotationdefaults\":{\"arrowcolor\":\"#2a3f5f\",\"arrowhead\":0,\"arrowwidth\":1},\"autotypenumbers\":\"strict\",\"coloraxis\":{\"colorbar\":{\"outlinewidth\":0,\"ticks\":\"\"}},\"colorscale\":{\"diverging\":[[0,\"#8e0152\"],[0.1,\"#c51b7d\"],[0.2,\"#de77ae\"],[0.3,\"#f1b6da\"],[0.4,\"#fde0ef\"],[0.5,\"#f7f7f7\"],[0.6,\"#e6f5d0\"],[0.7,\"#b8e186\"],[0.8,\"#7fbc41\"],[0.9,\"#4d9221\"],[1,\"#276419\"]],\"sequential\":[[0.0,\"#0d0887\"],[0.1111111111111111,\"#46039f\"],[0.2222222222222222,\"#7201a8\"],[0.3333333333333333,\"#9c179e\"],[0.4444444444444444,\"#bd3786\"],[0.5555555555555556,\"#d8576b\"],[0.6666666666666666,\"#ed7953\"],[0.7777777777777778,\"#fb9f3a\"],[0.8888888888888888,\"#fdca26\"],[1.0,\"#f0f921\"]],\"sequentialminus\":[[0.0,\"#0d0887\"],[0.1111111111111111,\"#46039f\"],[0.2222222222222222,\"#7201a8\"],[0.3333333333333333,\"#9c179e\"],[0.4444444444444444,\"#bd3786\"],[0.5555555555555556,\"#d8576b\"],[0.6666666666666666,\"#ed7953\"],[0.7777777777777778,\"#fb9f3a\"],[0.8888888888888888,\"#fdca26\"],[1.0,\"#f0f921\"]]},\"colorway\":[\"#636efa\",\"#EF553B\",\"#00cc96\",\"#ab63fa\",\"#FFA15A\",\"#19d3f3\",\"#FF6692\",\"#B6E880\",\"#FF97FF\",\"#FECB52\"],\"font\":{\"color\":\"#2a3f5f\"},\"geo\":{\"bgcolor\":\"white\",\"lakecolor\":\"white\",\"landcolor\":\"#E5ECF6\",\"showlakes\":true,\"showland\":true,\"subunitcolor\":\"white\"},\"hoverlabel\":{\"align\":\"left\"},\"hovermode\":\"closest\",\"mapbox\":{\"style\":\"light\"},\"paper_bgcolor\":\"white\",\"plot_bgcolor\":\"#E5ECF6\",\"polar\":{\"angularaxis\":{\"gridcolor\":\"white\",\"linecolor\":\"white\",\"ticks\":\"\"},\"bgcolor\":\"#E5ECF6\",\"radialaxis\":{\"gridcolor\":\"white\",\"linecolor\":\"white\",\"ticks\":\"\"}},\"scene\":{\"xaxis\":{\"backgroundcolor\":\"#E5ECF6\",\"gridcolor\":\"white\",\"gridwidth\":2,\"linecolor\":\"white\",\"showbackground\":true,\"ticks\":\"\",\"zerolinecolor\":\"white\"},\"yaxis\":{\"backgroundcolor\":\"#E5ECF6\",\"gridcolor\":\"white\",\"gridwidth\":2,\"linecolor\":\"white\",\"showbackground\":true,\"ticks\":\"\",\"zerolinecolor\":\"white\"},\"zaxis\":{\"backgroundcolor\":\"#E5ECF6\",\"gridcolor\":\"white\",\"gridwidth\":2,\"linecolor\":\"white\",\"showbackground\":true,\"ticks\":\"\",\"zerolinecolor\":\"white\"}},\"shapedefaults\":{\"line\":{\"color\":\"#2a3f5f\"}},\"ternary\":{\"aaxis\":{\"gridcolor\":\"white\",\"linecolor\":\"white\",\"ticks\":\"\"},\"baxis\":{\"gridcolor\":\"white\",\"linecolor\":\"white\",\"ticks\":\"\"},\"bgcolor\":\"#E5ECF6\",\"caxis\":{\"gridcolor\":\"white\",\"linecolor\":\"white\",\"ticks\":\"\"}},\"title\":{\"x\":0.05},\"xaxis\":{\"automargin\":true,\"gridcolor\":\"white\",\"linecolor\":\"white\",\"ticks\":\"\",\"title\":{\"standoff\":15},\"zerolinecolor\":\"white\",\"zerolinewidth\":2},\"yaxis\":{\"automargin\":true,\"gridcolor\":\"white\",\"linecolor\":\"white\",\"ticks\":\"\",\"title\":{\"standoff\":15},\"zerolinecolor\":\"white\",\"zerolinewidth\":2}}}},                        {\"responsive\": true}                    ).then(function(){\n",
       "                            \n",
       "var gd = document.getElementById('3a1601f4-2c39-4d27-9e61-0fb33cf79286');\n",
       "var x = new MutationObserver(function (mutations, observer) {{\n",
       "        var display = window.getComputedStyle(gd).display;\n",
       "        if (!display || display === 'none') {{\n",
       "            console.log([gd, 'removed!']);\n",
       "            Plotly.purge(gd);\n",
       "            observer.disconnect();\n",
       "        }}\n",
       "}});\n",
       "\n",
       "// Listen for the removal of the full notebook cells\n",
       "var notebookContainer = gd.closest('#notebook-container');\n",
       "if (notebookContainer) {{\n",
       "    x.observe(notebookContainer, {childList: true});\n",
       "}}\n",
       "\n",
       "// Listen for the clearing of the current output cell\n",
       "var outputEl = gd.closest('.output');\n",
       "if (outputEl) {{\n",
       "    x.observe(outputEl, {childList: true});\n",
       "}}\n",
       "\n",
       "                        })                };                });            </script>        </div>"
      ]
     },
     "metadata": {},
     "output_type": "display_data"
    }
   ],
   "source": [
    "fig = px.choropleth(exp_2018, locations=\"LOCATION\",\n",
    "                    color=\"Value\",\n",
    "                    hover_name=\"Country\", \n",
    "                    color_continuous_scale=px.colors.sequential.Viridis)\n",
    "fig.show()"
   ]
  },
  {
   "cell_type": "code",
   "execution_count": 151,
   "id": "44afa026",
   "metadata": {},
   "outputs": [
    {
     "data": {
      "text/html": [
       "<div>\n",
       "<style scoped>\n",
       "    .dataframe tbody tr th:only-of-type {\n",
       "        vertical-align: middle;\n",
       "    }\n",
       "\n",
       "    .dataframe tbody tr th {\n",
       "        vertical-align: top;\n",
       "    }\n",
       "\n",
       "    .dataframe thead th {\n",
       "        text-align: right;\n",
       "    }\n",
       "</style>\n",
       "<table border=\"1\" class=\"dataframe\">\n",
       "  <thead>\n",
       "    <tr style=\"text-align: right;\">\n",
       "      <th></th>\n",
       "      <th>world_rank</th>\n",
       "      <th>university_name</th>\n",
       "      <th>country</th>\n",
       "      <th>teaching</th>\n",
       "      <th>international</th>\n",
       "      <th>research</th>\n",
       "      <th>citations</th>\n",
       "      <th>income</th>\n",
       "      <th>total_score</th>\n",
       "      <th>num_students</th>\n",
       "      <th>student_staff_ratio</th>\n",
       "      <th>international_students</th>\n",
       "      <th>female_male_ratio</th>\n",
       "      <th>year</th>\n",
       "    </tr>\n",
       "  </thead>\n",
       "  <tbody>\n",
       "    <tr>\n",
       "      <th>0</th>\n",
       "      <td>1</td>\n",
       "      <td>Harvard University</td>\n",
       "      <td>United States of America</td>\n",
       "      <td>99.7</td>\n",
       "      <td>72.4</td>\n",
       "      <td>98.7</td>\n",
       "      <td>98.8</td>\n",
       "      <td>34.5</td>\n",
       "      <td>96.1</td>\n",
       "      <td>20,152</td>\n",
       "      <td>8.9</td>\n",
       "      <td>25%</td>\n",
       "      <td>0</td>\n",
       "      <td>2011</td>\n",
       "    </tr>\n",
       "    <tr>\n",
       "      <th>1</th>\n",
       "      <td>2</td>\n",
       "      <td>California Institute of Technology</td>\n",
       "      <td>United States of America</td>\n",
       "      <td>97.7</td>\n",
       "      <td>54.6</td>\n",
       "      <td>98.0</td>\n",
       "      <td>99.9</td>\n",
       "      <td>83.7</td>\n",
       "      <td>96.0</td>\n",
       "      <td>2,243</td>\n",
       "      <td>6.9</td>\n",
       "      <td>27%</td>\n",
       "      <td>33 : 67</td>\n",
       "      <td>2011</td>\n",
       "    </tr>\n",
       "    <tr>\n",
       "      <th>2</th>\n",
       "      <td>3</td>\n",
       "      <td>Massachusetts Institute of Technology</td>\n",
       "      <td>United States of America</td>\n",
       "      <td>97.8</td>\n",
       "      <td>82.3</td>\n",
       "      <td>91.4</td>\n",
       "      <td>99.9</td>\n",
       "      <td>87.5</td>\n",
       "      <td>95.6</td>\n",
       "      <td>11,074</td>\n",
       "      <td>9.0</td>\n",
       "      <td>33%</td>\n",
       "      <td>37 : 63</td>\n",
       "      <td>2011</td>\n",
       "    </tr>\n",
       "    <tr>\n",
       "      <th>3</th>\n",
       "      <td>4</td>\n",
       "      <td>Stanford University</td>\n",
       "      <td>United States of America</td>\n",
       "      <td>98.3</td>\n",
       "      <td>29.5</td>\n",
       "      <td>98.1</td>\n",
       "      <td>99.2</td>\n",
       "      <td>64.3</td>\n",
       "      <td>94.3</td>\n",
       "      <td>15,596</td>\n",
       "      <td>7.8</td>\n",
       "      <td>22%</td>\n",
       "      <td>42 : 58</td>\n",
       "      <td>2011</td>\n",
       "    </tr>\n",
       "    <tr>\n",
       "      <th>4</th>\n",
       "      <td>5</td>\n",
       "      <td>Princeton University</td>\n",
       "      <td>United States of America</td>\n",
       "      <td>90.9</td>\n",
       "      <td>70.3</td>\n",
       "      <td>95.4</td>\n",
       "      <td>99.9</td>\n",
       "      <td>-</td>\n",
       "      <td>94.2</td>\n",
       "      <td>7,929</td>\n",
       "      <td>8.4</td>\n",
       "      <td>27%</td>\n",
       "      <td>45 : 55</td>\n",
       "      <td>2011</td>\n",
       "    </tr>\n",
       "  </tbody>\n",
       "</table>\n",
       "</div>"
      ],
      "text/plain": [
       "  world_rank                        university_name                   country  \\\n",
       "0          1                     Harvard University  United States of America   \n",
       "1          2     California Institute of Technology  United States of America   \n",
       "2          3  Massachusetts Institute of Technology  United States of America   \n",
       "3          4                    Stanford University  United States of America   \n",
       "4          5                   Princeton University  United States of America   \n",
       "\n",
       "   teaching international  research  citations income total_score  \\\n",
       "0      99.7          72.4      98.7       98.8   34.5        96.1   \n",
       "1      97.7          54.6      98.0       99.9   83.7        96.0   \n",
       "2      97.8          82.3      91.4       99.9   87.5        95.6   \n",
       "3      98.3          29.5      98.1       99.2   64.3        94.3   \n",
       "4      90.9          70.3      95.4       99.9      -        94.2   \n",
       "\n",
       "  num_students  student_staff_ratio international_students female_male_ratio  \\\n",
       "0       20,152                  8.9                    25%                 0   \n",
       "1        2,243                  6.9                    27%           33 : 67   \n",
       "2       11,074                  9.0                    33%           37 : 63   \n",
       "3       15,596                  7.8                    22%           42 : 58   \n",
       "4        7,929                  8.4                    27%           45 : 55   \n",
       "\n",
       "   year  \n",
       "0  2011  \n",
       "1  2011  \n",
       "2  2011  \n",
       "3  2011  \n",
       "4  2011  "
      ]
     },
     "execution_count": 151,
     "metadata": {},
     "output_type": "execute_result"
    }
   ],
   "source": [
    "# times rankings since year 2005\n",
    "ranking = pd.read_csv('timesData.csv')\n",
    "ranking = ranking.fillna(value=0, axis=None, inplace=False, limit=None, downcast=None)\n",
    "ranking.world_rank = ranking.world_rank.str.split(\"-\").str[0]\n",
    "ranking.head()"
   ]
  },
  {
   "cell_type": "code",
   "execution_count": 199,
   "id": "6ac131d8",
   "metadata": {},
   "outputs": [
    {
     "data": {
      "text/html": [
       "<div>\n",
       "<style scoped>\n",
       "    .dataframe tbody tr th:only-of-type {\n",
       "        vertical-align: middle;\n",
       "    }\n",
       "\n",
       "    .dataframe tbody tr th {\n",
       "        vertical-align: top;\n",
       "    }\n",
       "\n",
       "    .dataframe thead th {\n",
       "        text-align: right;\n",
       "    }\n",
       "</style>\n",
       "<table border=\"1\" class=\"dataframe\">\n",
       "  <thead>\n",
       "    <tr style=\"text-align: right;\">\n",
       "      <th></th>\n",
       "      <th>world_rank</th>\n",
       "    </tr>\n",
       "    <tr>\n",
       "      <th>country</th>\n",
       "      <th></th>\n",
       "    </tr>\n",
       "  </thead>\n",
       "  <tbody>\n",
       "    <tr>\n",
       "      <th>Australia</th>\n",
       "      <td>5</td>\n",
       "    </tr>\n",
       "    <tr>\n",
       "      <th>Belgium</th>\n",
       "      <td>2</td>\n",
       "    </tr>\n",
       "    <tr>\n",
       "      <th>Canada</th>\n",
       "      <td>4</td>\n",
       "    </tr>\n",
       "    <tr>\n",
       "      <th>China</th>\n",
       "      <td>2</td>\n",
       "    </tr>\n",
       "    <tr>\n",
       "      <th>France</th>\n",
       "      <td>2</td>\n",
       "    </tr>\n",
       "    <tr>\n",
       "      <th>Germany</th>\n",
       "      <td>6</td>\n",
       "    </tr>\n",
       "    <tr>\n",
       "      <th>Hong Kong</th>\n",
       "      <td>2</td>\n",
       "    </tr>\n",
       "    <tr>\n",
       "      <th>Italy</th>\n",
       "      <td>1</td>\n",
       "    </tr>\n",
       "    <tr>\n",
       "      <th>Japan</th>\n",
       "      <td>2</td>\n",
       "    </tr>\n",
       "    <tr>\n",
       "      <th>Netherlands</th>\n",
       "      <td>6</td>\n",
       "    </tr>\n",
       "    <tr>\n",
       "      <th>Singapore</th>\n",
       "      <td>2</td>\n",
       "    </tr>\n",
       "    <tr>\n",
       "      <th>South Korea</th>\n",
       "      <td>3</td>\n",
       "    </tr>\n",
       "    <tr>\n",
       "      <th>Sweden</th>\n",
       "      <td>3</td>\n",
       "    </tr>\n",
       "    <tr>\n",
       "      <th>Switzerland</th>\n",
       "      <td>3</td>\n",
       "    </tr>\n",
       "    <tr>\n",
       "      <th>Turkey</th>\n",
       "      <td>1</td>\n",
       "    </tr>\n",
       "    <tr>\n",
       "      <th>United Kingdom</th>\n",
       "      <td>11</td>\n",
       "    </tr>\n",
       "    <tr>\n",
       "      <th>United States of America</th>\n",
       "      <td>45</td>\n",
       "    </tr>\n",
       "  </tbody>\n",
       "</table>\n",
       "</div>"
      ],
      "text/plain": [
       "                          world_rank\n",
       "country                             \n",
       "Australia                          5\n",
       "Belgium                            2\n",
       "Canada                             4\n",
       "China                              2\n",
       "France                             2\n",
       "Germany                            6\n",
       "Hong Kong                          2\n",
       "Italy                              1\n",
       "Japan                              2\n",
       "Netherlands                        6\n",
       "Singapore                          2\n",
       "South Korea                        3\n",
       "Sweden                             3\n",
       "Switzerland                        3\n",
       "Turkey                             1\n",
       "United Kingdom                    11\n",
       "United States of America          45"
      ]
     },
     "execution_count": 199,
     "metadata": {},
     "output_type": "execute_result"
    }
   ],
   "source": [
    "# get the number of universities with top 100 ranking in each country\n",
    "ranking_2015 = ranking[ranking.year == 2015][['country','world_rank']]\n",
    "ranking_2015.world_rank = ranking_2015.world_rank.astype('int')\n",
    "ranking_2015_top100 = ranking_2015[ranking_2015.world_rank < 100]\n",
    "ranking_2015_top100.groupby('country').count()"
   ]
  },
  {
   "cell_type": "code",
   "execution_count": 200,
   "id": "6ce84db1",
   "metadata": {},
   "outputs": [
    {
     "data": {
      "text/plain": [
       "<AxesSubplot:ylabel='country'>"
      ]
     },
     "execution_count": 200,
     "metadata": {},
     "output_type": "execute_result"
    },
    {
     "data": {
      "image/png": "[encoded data removed]",
      "text/plain": [
       "<Figure size 432x288 with 1 Axes>"
      ]
     },
     "metadata": {
      "needs_background": "light"
     },
     "output_type": "display_data"
    }
   ],
   "source": [
    "df = ranking_2015_top100.groupby('country').count()\n",
    "df.sort_values(by='world_rank').plot(kind='barh')"
   ]
  },
  {
   "cell_type": "code",
   "execution_count": 201,
   "id": "cf792812",
   "metadata": {},
   "outputs": [],
   "source": [
    "# compare number of top ranked universities to aggregate spending by the country in the last 5 years\n",
    "exp_last5 = exp.query('TIME in [2010,2011,2012,2013,2014,2015]')[['Value','Country','LOCATION']].dropna()\n",
    "# sum all kinds of expenses for each country\n",
    "exp_last5.Value = exp_last5[['Value','LOCATION']].groupby('LOCATION').transform('sum')\n",
    "exp_last5.drop_duplicates('LOCATION', inplace=True)\n",
    "exp_last5 = exp_last5.rename(columns={'Country':'country'})\n",
    "# normalize the expenses\n",
    "exp_last5 = pd.merge(df,exp_last5,on='country')"
   ]
  },
  {
   "cell_type": "code",
   "execution_count": 202,
   "id": "59ce7337",
   "metadata": {},
   "outputs": [],
   "source": [
    "exp_last5.Value = exp_last5.Value/10**5\n",
    "exp_last5 = exp_last5.set_index('country')"
   ]
  },
  {
   "cell_type": "code",
   "execution_count": 203,
   "id": "367d1323",
   "metadata": {},
   "outputs": [
    {
     "data": {
      "text/plain": [
       "<AxesSubplot:xlabel='country'>"
      ]
     },
     "execution_count": 203,
     "metadata": {},
     "output_type": "execute_result"
    },
    {
     "data": {
      "image/png": "[encoded data removed]",
      "text/plain": [
       "<Figure size 432x288 with 1 Axes>"
      ]
     },
     "metadata": {
      "needs_background": "light"
     },
     "output_type": "display_data"
    }
   ],
   "source": [
    "exp_last5.plot(kind='bar')"
   ]
  },
  {
   "cell_type": "code",
   "execution_count": null,
   "id": "2c663d53",
   "metadata": {},
   "outputs": [],
   "source": [
    "# public and private universities\n",
    "pd.read_html()"
   ]
  }
 ],
 "metadata": {
  "kernelspec": {
   "display_name": "Python 3 (ipykernel)",
   "language": "python",
   "name": "python3"
  },
  "language_info": {
   "codemirror_mode": {
    "name": "ipython",
    "version": 3
   },
   "file_extension": ".py",
   "mimetype": "text/x-python",
   "name": "python",
   "nbconvert_exporter": "python",
   "pygments_lexer": "ipython3",
   "version": "3.9.7"
  }
 },
 "nbformat": 4,
 "nbformat_minor": 5
}
