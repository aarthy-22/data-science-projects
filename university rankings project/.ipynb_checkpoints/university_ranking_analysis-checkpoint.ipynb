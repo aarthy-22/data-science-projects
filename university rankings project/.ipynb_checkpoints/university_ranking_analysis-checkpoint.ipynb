{
 "cells": [
  {
   "cell_type": "code",
   "execution_count": 2,
   "id": "cab09531",
   "metadata": {},
   "outputs": [],
   "source": [
    "import numpy as np\n",
    "import pandas as pd\n",
    "import plotly.express as px\n",
    "import matplotlib.pyplot as plt"
   ]
  },
  {
   "cell_type": "markdown",
   "id": "ea5266ef",
   "metadata": {},
   "source": [
    "### INTRODUCTION ###                                                                                                      \n",
    "There has been a growing opinion that college rankings are not really valid and that it is money-driven. Here, I have analysed the relationship between the spending of a country in post secondary and tertiary education and the ranking of it's universities."
   ]
  },
  {
   "cell_type": "markdown",
   "id": "9f495c30",
   "metadata": {},
   "source": [
    "### DATA DESCRIPTION ###\n",
    "#### We have used [UNESCO](http://data.uis.unesco.org/#)  data on government expenditure in post secondary and tertiary education and unsepcified level of education normalized for purchasing power parity, from 2010-2021 for all countries and Times Higher Education and CWUR rankings from this [Kaggle dataset](https://www.kaggle.com/mylesoneill/world-university-rankings?select=educational_attainment_supplementary_data.csv)  and further scraped rankings for later years ####"
   ]
  },
  {
   "cell_type": "code",
   "execution_count": 262,
   "id": "19ee867b",
   "metadata": {},
   "outputs": [
    {
     "data": {
      "text/html": [
       "<div>\n",
       "<style scoped>\n",
       "    .dataframe tbody tr th:only-of-type {\n",
       "        vertical-align: middle;\n",
       "    }\n",
       "\n",
       "    .dataframe tbody tr th {\n",
       "        vertical-align: top;\n",
       "    }\n",
       "\n",
       "    .dataframe thead th {\n",
       "        text-align: right;\n",
       "    }\n",
       "</style>\n",
       "<table border=\"1\" class=\"dataframe\">\n",
       "  <thead>\n",
       "    <tr style=\"text-align: right;\">\n",
       "      <th></th>\n",
       "      <th>NATMON_IND</th>\n",
       "      <th>Indicator</th>\n",
       "      <th>LOCATION</th>\n",
       "      <th>Country</th>\n",
       "      <th>TIME</th>\n",
       "      <th>Time</th>\n",
       "      <th>Value</th>\n",
       "      <th>Flag Codes</th>\n",
       "      <th>Flags</th>\n",
       "    </tr>\n",
       "  </thead>\n",
       "  <tbody>\n",
       "    <tr>\n",
       "      <th>0</th>\n",
       "      <td>X_PPPCONST_UK_FSGOV</td>\n",
       "      <td>Government expenditure on education not specif...</td>\n",
       "      <td>SSD</td>\n",
       "      <td>South Sudan</td>\n",
       "      <td>2011</td>\n",
       "      <td>2011</td>\n",
       "      <td>NaN</td>\n",
       "      <td>n</td>\n",
       "      <td>Magnitude nil or negligible</td>\n",
       "    </tr>\n",
       "    <tr>\n",
       "      <th>1</th>\n",
       "      <td>X_PPPCONST_UK_FSGOV</td>\n",
       "      <td>Government expenditure on education not specif...</td>\n",
       "      <td>SSD</td>\n",
       "      <td>South Sudan</td>\n",
       "      <td>2013</td>\n",
       "      <td>2013</td>\n",
       "      <td>NaN</td>\n",
       "      <td>n</td>\n",
       "      <td>Magnitude nil or negligible</td>\n",
       "    </tr>\n",
       "    <tr>\n",
       "      <th>2</th>\n",
       "      <td>X_PPPCONST_UK_FSGOV</td>\n",
       "      <td>Government expenditure on education not specif...</td>\n",
       "      <td>SSD</td>\n",
       "      <td>South Sudan</td>\n",
       "      <td>2014</td>\n",
       "      <td>2014</td>\n",
       "      <td>NaN</td>\n",
       "      <td>n</td>\n",
       "      <td>Magnitude nil or negligible</td>\n",
       "    </tr>\n",
       "    <tr>\n",
       "      <th>3</th>\n",
       "      <td>X_PPPCONST_UK_FSGOV</td>\n",
       "      <td>Government expenditure on education not specif...</td>\n",
       "      <td>SSD</td>\n",
       "      <td>South Sudan</td>\n",
       "      <td>2015</td>\n",
       "      <td>2015</td>\n",
       "      <td>NaN</td>\n",
       "      <td>n</td>\n",
       "      <td>Magnitude nil or negligible</td>\n",
       "    </tr>\n",
       "    <tr>\n",
       "      <th>4</th>\n",
       "      <td>X_PPPCONST_UK_FSGOV</td>\n",
       "      <td>Government expenditure on education not specif...</td>\n",
       "      <td>SSD</td>\n",
       "      <td>South Sudan</td>\n",
       "      <td>2016</td>\n",
       "      <td>2016</td>\n",
       "      <td>NaN</td>\n",
       "      <td>n</td>\n",
       "      <td>Magnitude nil or negligible</td>\n",
       "    </tr>\n",
       "    <tr>\n",
       "      <th>5</th>\n",
       "      <td>X_PPPCONST_UK_FSGOV</td>\n",
       "      <td>Government expenditure on education not specif...</td>\n",
       "      <td>SSD</td>\n",
       "      <td>South Sudan</td>\n",
       "      <td>2017</td>\n",
       "      <td>2017</td>\n",
       "      <td>NaN</td>\n",
       "      <td>n</td>\n",
       "      <td>Magnitude nil or negligible</td>\n",
       "    </tr>\n",
       "    <tr>\n",
       "      <th>6</th>\n",
       "      <td>X_PPPCONST_4_FSGOV</td>\n",
       "      <td>Government expenditure on post-secondary non-t...</td>\n",
       "      <td>ISL</td>\n",
       "      <td>Iceland</td>\n",
       "      <td>2010</td>\n",
       "      <td>2010</td>\n",
       "      <td>NaN</td>\n",
       "      <td>n</td>\n",
       "      <td>Magnitude nil or negligible</td>\n",
       "    </tr>\n",
       "    <tr>\n",
       "      <th>7</th>\n",
       "      <td>X_PPPCONST_4_FSGOV</td>\n",
       "      <td>Government expenditure on post-secondary non-t...</td>\n",
       "      <td>ISL</td>\n",
       "      <td>Iceland</td>\n",
       "      <td>2011</td>\n",
       "      <td>2011</td>\n",
       "      <td>NaN</td>\n",
       "      <td>n</td>\n",
       "      <td>Magnitude nil or negligible</td>\n",
       "    </tr>\n",
       "    <tr>\n",
       "      <th>8</th>\n",
       "      <td>X_PPPCONST_4_FSGOV</td>\n",
       "      <td>Government expenditure on post-secondary non-t...</td>\n",
       "      <td>ISL</td>\n",
       "      <td>Iceland</td>\n",
       "      <td>2012</td>\n",
       "      <td>2012</td>\n",
       "      <td>8.34555</td>\n",
       "      <td>NaN</td>\n",
       "      <td>NaN</td>\n",
       "    </tr>\n",
       "    <tr>\n",
       "      <th>9</th>\n",
       "      <td>X_PPPCONST_4_FSGOV</td>\n",
       "      <td>Government expenditure on post-secondary non-t...</td>\n",
       "      <td>ISL</td>\n",
       "      <td>Iceland</td>\n",
       "      <td>2013</td>\n",
       "      <td>2013</td>\n",
       "      <td>8.43417</td>\n",
       "      <td>NaN</td>\n",
       "      <td>NaN</td>\n",
       "    </tr>\n",
       "  </tbody>\n",
       "</table>\n",
       "</div>"
      ],
      "text/plain": [
       "            NATMON_IND                                          Indicator  \\\n",
       "0  X_PPPCONST_UK_FSGOV  Government expenditure on education not specif...   \n",
       "1  X_PPPCONST_UK_FSGOV  Government expenditure on education not specif...   \n",
       "2  X_PPPCONST_UK_FSGOV  Government expenditure on education not specif...   \n",
       "3  X_PPPCONST_UK_FSGOV  Government expenditure on education not specif...   \n",
       "4  X_PPPCONST_UK_FSGOV  Government expenditure on education not specif...   \n",
       "5  X_PPPCONST_UK_FSGOV  Government expenditure on education not specif...   \n",
       "6   X_PPPCONST_4_FSGOV  Government expenditure on post-secondary non-t...   \n",
       "7   X_PPPCONST_4_FSGOV  Government expenditure on post-secondary non-t...   \n",
       "8   X_PPPCONST_4_FSGOV  Government expenditure on post-secondary non-t...   \n",
       "9   X_PPPCONST_4_FSGOV  Government expenditure on post-secondary non-t...   \n",
       "\n",
       "  LOCATION      Country  TIME  Time    Value Flag Codes  \\\n",
       "0      SSD  South Sudan  2011  2011      NaN          n   \n",
       "1      SSD  South Sudan  2013  2013      NaN          n   \n",
       "2      SSD  South Sudan  2014  2014      NaN          n   \n",
       "3      SSD  South Sudan  2015  2015      NaN          n   \n",
       "4      SSD  South Sudan  2016  2016      NaN          n   \n",
       "5      SSD  South Sudan  2017  2017      NaN          n   \n",
       "6      ISL      Iceland  2010  2010      NaN          n   \n",
       "7      ISL      Iceland  2011  2011      NaN          n   \n",
       "8      ISL      Iceland  2012  2012  8.34555        NaN   \n",
       "9      ISL      Iceland  2013  2013  8.43417        NaN   \n",
       "\n",
       "                         Flags  \n",
       "0  Magnitude nil or negligible  \n",
       "1  Magnitude nil or negligible  \n",
       "2  Magnitude nil or negligible  \n",
       "3  Magnitude nil or negligible  \n",
       "4  Magnitude nil or negligible  \n",
       "5  Magnitude nil or negligible  \n",
       "6  Magnitude nil or negligible  \n",
       "7  Magnitude nil or negligible  \n",
       "8                          NaN  \n",
       "9                          NaN  "
      ]
     },
     "execution_count": 262,
     "metadata": {},
     "output_type": "execute_result"
    }
   ],
   "source": [
    "# education expenditure data from Unesco\n",
    "exp = pd.read_csv('data/education_expenditure.csv')\n",
    "exp.head(10)"
   ]
  },
  {
   "cell_type": "code",
   "execution_count": 263,
   "id": "dfddf62d",
   "metadata": {},
   "outputs": [],
   "source": [
    "exp = exp[['Value','Country','LOCATION', 'TIME','Indicator']].dropna()\n",
    "exp = exp.rename(columns = {\"Value\":\"educational_spending\"})"
   ]
  },
  {
   "cell_type": "markdown",
   "id": "fb652eeb",
   "metadata": {},
   "source": [
    "### Top 20 countries with highest educational spending from 2012 - 2016 ###"
   ]
  },
  {
   "cell_type": "code",
   "execution_count": 276,
   "id": "2ddc1fc2",
   "metadata": {},
   "outputs": [
    {
     "data": {
      "text/plain": [
       "<AxesSubplot:ylabel='Country'>"
      ]
     },
     "execution_count": 276,
     "metadata": {},
     "output_type": "execute_result"
    },
    {
     "data": {
      "image/png": "[encoded data removed]",
      "text/plain": [
       "<Figure size 432x288 with 1 Axes>"
      ]
     },
     "metadata": {
      "needs_background": "light"
     },
     "output_type": "display_data"
    }
   ],
   "source": [
    "# educatinal spending of different countries in 2012\n",
    "x = exp[exp.TIME == 2012][['educational_spending','Country','LOCATION']]\n",
    "# sum all kinds of expenses for each country\n",
    "x.educational_spending = x[['educational_spending','LOCATION']].groupby('LOCATION').transform('sum')\n",
    "x.drop_duplicates('LOCATION', inplace=True)\n",
    "x = x.set_index('Country')\n",
    "x.sort_values(by='educational_spending', ascending=False)[:20].plot(kind='barh')"
   ]
  },
  {
   "cell_type": "code",
   "execution_count": 277,
   "id": "4fab89ca",
   "metadata": {},
   "outputs": [
    {
     "data": {
      "text/plain": [
       "<AxesSubplot:ylabel='Country'>"
      ]
     },
     "execution_count": 277,
     "metadata": {},
     "output_type": "execute_result"
    },
    {
     "data": {
      "image/png": "[encoded data removed]",
      "text/plain": [
       "<Figure size 432x288 with 1 Axes>"
      ]
     },
     "metadata": {
      "needs_background": "light"
     },
     "output_type": "display_data"
    }
   ],
   "source": [
    "# educatinal spending of different countries in 2013\n",
    "x = exp[exp.TIME == 2013][['educational_spending','Country','LOCATION']]\n",
    "# sum all kinds of expenses for each country\n",
    "x.educational_spending = x[['educational_spending','LOCATION']].groupby('LOCATION').transform('sum')\n",
    "x.drop_duplicates('LOCATION', inplace=True)\n",
    "x = x.set_index('Country')\n",
    "x.sort_values(by='educational_spending', ascending=False)[:20].plot(kind='barh')"
   ]
  },
  {
   "cell_type": "code",
   "execution_count": 278,
   "id": "e5aaee24",
   "metadata": {},
   "outputs": [
    {
     "data": {
      "text/plain": [
       "<AxesSubplot:ylabel='Country'>"
      ]
     },
     "execution_count": 278,
     "metadata": {},
     "output_type": "execute_result"
    },
    {
     "data": {
      "image/png": "[encoded data removed]",
      "text/plain": [
       "<Figure size 432x288 with 1 Axes>"
      ]
     },
     "metadata": {
      "needs_background": "light"
     },
     "output_type": "display_data"
    }
   ],
   "source": [
    "# educatinal spending of different countries in 2014\n",
    "x = exp[exp.TIME == 2014][['educational_spending','Country','LOCATION']]\n",
    "# sum all kinds of expenses for each country\n",
    "x.educational_spending = x[['educational_spending','LOCATION']].groupby('LOCATION').transform('sum')\n",
    "x.drop_duplicates('LOCATION', inplace=True)\n",
    "x = x.set_index('Country')\n",
    "x.sort_values(by='educational_spending', ascending=False)[:20].plot(kind='barh')"
   ]
  },
  {
   "cell_type": "code",
   "execution_count": 279,
   "id": "307156a7",
   "metadata": {},
   "outputs": [
    {
     "data": {
      "text/plain": [
       "<AxesSubplot:ylabel='Country'>"
      ]
     },
     "execution_count": 279,
     "metadata": {},
     "output_type": "execute_result"
    },
    {
     "data": {
      "image/png": "[encoded data removed]",
      "text/plain": [
       "<Figure size 432x288 with 1 Axes>"
      ]
     },
     "metadata": {
      "needs_background": "light"
     },
     "output_type": "display_data"
    }
   ],
   "source": [
    "# educatinal spending of different countries in 2015\n",
    "x = exp[exp.TIME == 2015][['educational_spending','Country','LOCATION']]\n",
    "# sum all kinds of expenses for each country\n",
    "x.educational_spending = x[['educational_spending','LOCATION']].groupby('LOCATION').transform('sum')\n",
    "x.drop_duplicates('LOCATION', inplace=True)\n",
    "x = x.set_index('Country')\n",
    "x.sort_values(by='educational_spending', ascending=False)[:20].plot(kind='barh')"
   ]
  },
  {
   "cell_type": "code",
   "execution_count": 280,
   "id": "4bd1054d",
   "metadata": {},
   "outputs": [
    {
     "data": {
      "text/plain": [
       "<AxesSubplot:ylabel='Country'>"
      ]
     },
     "execution_count": 280,
     "metadata": {},
     "output_type": "execute_result"
    },
    {
     "data": {
      "image/png": "[encoded data removed]",
      "text/plain": [
       "<Figure size 432x288 with 1 Axes>"
      ]
     },
     "metadata": {
      "needs_background": "light"
     },
     "output_type": "display_data"
    }
   ],
   "source": [
    "# educatinal spending of different countries in 2016\n",
    "x = exp[exp.TIME == 2016][['educational_spending','Country','LOCATION']]\n",
    "# sum all kinds of expenses for each country\n",
    "x.educational_spending = x[['educational_spending','LOCATION']].groupby('LOCATION').transform('sum')\n",
    "x.drop_duplicates('LOCATION', inplace=True)\n",
    "x = x.set_index('Country')\n",
    "x.sort_values(by='educational_spending', ascending=False)[:20].plot(kind='barh')"
   ]
  },
  {
   "cell_type": "markdown",
   "id": "992d2615",
   "metadata": {},
   "source": [
    "### Total spending of all countries between 2013 and 2018 as a geo plot ###"
   ]
  },
  {
   "cell_type": "code",
   "execution_count": 271,
   "id": "182f51f7",
   "metadata": {
    "scrolled": true
   },
   "outputs": [
    {
     "name": "stderr",
     "output_type": "stream",
     "text": [
      "C:\\Users\\raart\\miniconda3\\envs\\ds\\lib\\site-packages\\pandas\\core\\generic.py:5516: SettingWithCopyWarning:\n",
      "\n",
      "\n",
      "A value is trying to be set on a copy of a slice from a DataFrame.\n",
      "Try using .loc[row_indexer,col_indexer] = value instead\n",
      "\n",
      "See the caveats in the documentation: https://pandas.pydata.org/pandas-docs/stable/user_guide/indexing.html#returning-a-view-versus-a-copy\n",
      "\n"
     ]
    },
    {
     "data": {
      "application/vnd.plotly.v1+json": {
       "config": {
        "plotlyServerURL": "https://plot.ly"
       },
       "data": [
        {
         "coloraxis": "coloraxis",
         "geo": "geo",
         "hovertemplate": "<b>%{hovertext}</b><br><br>LOCATION=%{location}<br>educational_spending=%{z}<extra></extra>",
         "hovertext": [
          "MDG",
          "HTI",
          "PNG",
          "TUR",
          "ECU",
          "ZMB",
          "ARG",
          "ESP",
          "GIN",
          "TLS",
          "KHM",
          "POL",
          "HRV",
          "UGA",
          "BIH",
          "FJI",
          "COL",
          "NPL",
          "SVN",
          "LSO",
          "ITA",
          "HKG",
          "AFG",
          "AUT",
          "IRN",
          "DNK",
          "SYC",
          "AZE",
          "CHL",
          "BRB",
          "CMR",
          "GBR",
          "VUT",
          "TCA",
          "ARM",
          "PRY",
          "URY",
          "UKR",
          "HUN",
          "BTN",
          "ISL",
          "AUS",
          "CZE",
          "LAO",
          "BEL",
          "LTU",
          "MLI",
          "LCA",
          "LKA",
          "SWZ",
          "BGD",
          "COM",
          "PRT",
          "BLZ",
          "MDA",
          "IND",
          "NAM",
          "BFA",
          "CYP",
          "ROU",
          "BRN",
          "NER",
          "KAZ",
          "LVA",
          "CRI",
          "TGO",
          "VNM",
          "KEN",
          "GHA",
          "MDV",
          "MAC",
          "NZL",
          "KNA",
          "MEX",
          "SVK",
          "MUS",
          "SWE",
          "ZAF",
          "JPN",
          "SGP",
          "FIN",
          "GNB",
          "PER",
          "MNG",
          "TUN",
          "DOM",
          "BRA",
          "RUS",
          "DEU",
          "BDI",
          "BEN",
          "CIV",
          "OMN",
          "CAN",
          "KGZ",
          "JOR",
          "IRL",
          "LBN",
          "SLV",
          "JAM",
          "KOR",
          "HND",
          "ISR",
          "MYS",
          "NLD",
          "GMB",
          "EST",
          "TCD",
          "BLR",
          "COG",
          "ZWE",
          "GTM",
          "NOR",
          "LUX",
          "CHE",
          "SLE",
          "SRB",
          "BGR",
          "VCT",
          "CPV",
          "THA",
          "GUY",
          "GEO",
          "IDN",
          "MWI",
          "MLT",
          "WSM",
          "DJI",
          "MRT",
          "RWA",
          "DMA",
          "PAK",
          "USA",
          "MMR",
          "LBR",
          "NIC",
          "TZA",
          "QAT",
          "FRA",
          "GAB",
          "TJK",
          "ETH",
          "SEN",
          "PRI",
          "COD",
          "PSE",
          "SMR",
          "STP",
          "ALB",
          "FSM",
          "GRC",
          "BHR",
          "MOZ",
          "GRD",
          "CUW",
          "BMU",
          "UZB"
         ],
         "locations": [
          "MDG",
          "HTI",
          "PNG",
          "TUR",
          "ECU",
          "ZMB",
          "ARG",
          "ESP",
          "GIN",
          "TLS",
          "KHM",
          "POL",
          "HRV",
          "UGA",
          "BIH",
          "FJI",
          "COL",
          "NPL",
          "SVN",
          "LSO",
          "ITA",
          "HKG",
          "AFG",
          "AUT",
          "IRN",
          "DNK",
          "SYC",
          "AZE",
          "CHL",
          "BRB",
          "CMR",
          "GBR",
          "VUT",
          "TCA",
          "ARM",
          "PRY",
          "URY",
          "UKR",
          "HUN",
          "BTN",
          "ISL",
          "AUS",
          "CZE",
          "LAO",
          "BEL",
          "LTU",
          "MLI",
          "LCA",
          "LKA",
          "SWZ",
          "BGD",
          "COM",
          "PRT",
          "BLZ",
          "MDA",
          "IND",
          "NAM",
          "BFA",
          "CYP",
          "ROU",
          "BRN",
          "NER",
          "KAZ",
          "LVA",
          "CRI",
          "TGO",
          "VNM",
          "KEN",
          "GHA",
          "MDV",
          "MAC",
          "NZL",
          "KNA",
          "MEX",
          "SVK",
          "MUS",
          "SWE",
          "ZAF",
          "JPN",
          "SGP",
          "FIN",
          "GNB",
          "PER",
          "MNG",
          "TUN",
          "DOM",
          "BRA",
          "RUS",
          "DEU",
          "BDI",
          "BEN",
          "CIV",
          "OMN",
          "CAN",
          "KGZ",
          "JOR",
          "IRL",
          "LBN",
          "SLV",
          "JAM",
          "KOR",
          "HND",
          "ISR",
          "MYS",
          "NLD",
          "GMB",
          "EST",
          "TCD",
          "BLR",
          "COG",
          "ZWE",
          "GTM",
          "NOR",
          "LUX",
          "CHE",
          "SLE",
          "SRB",
          "BGR",
          "VCT",
          "CPV",
          "THA",
          "GUY",
          "GEO",
          "IDN",
          "MWI",
          "MLT",
          "WSM",
          "DJI",
          "MRT",
          "RWA",
          "DMA",
          "PAK",
          "USA",
          "MMR",
          "LBR",
          "NIC",
          "TZA",
          "QAT",
          "FRA",
          "GAB",
          "TJK",
          "ETH",
          "SEN",
          "PRI",
          "COD",
          "PSE",
          "SMR",
          "STP",
          "ALB",
          "FSM",
          "GRC",
          "BHR",
          "MOZ",
          "GRD",
          "CUW",
          "BMU",
          "UZB"
         ],
         "name": "",
         "type": "choropleth",
         "z": [
          4737.78458,
          2739.37581,
          1419.94446,
          133136.53394,
          41320.56249,
          10751.31042,
          412006.65329,
          555639.49711,
          4885.1494,
          1762.28512,
          3570.2142799999997,
          386223.04092,
          11597.76453,
          10192.76546,
          2386.3133,
          482.12363,
          234309.7696,
          21076.08451,
          26557.701680000002,
          941.00754,
          772115.65578,
          120505.57951,
          15521.62977,
          206826.90628999998,
          277145.69592,
          103203.42177,
          357.21894,
          27682.34105,
          167099.85957,
          1212.73064,
          14660.13471,
          1179558.42384,
          154.29113,
          66.96485,
          5364.28352,
          3598.76649,
          14032.788340000001,
          205653.60704,
          99435.26032,
          3005.0671,
          10186.33328,
          469853.38287,
          145862.65133999998,
          2860.30043,
          279640.07045,
          29867.68372,
          8138.6631099999995,
          638.0950300000001,
          44992.64803,
          716.61947,
          22699.74483,
          194.91116,
          100125.51548,
          1325.63621,
          8903.83435,
          910747.57483,
          578.84702,
          10056.14438,
          11552.85802,
          129057.16421,
          2693.5007,
          6241.39173,
          65324.2169,
          20128.07528,
          50534.037280000004,
          3827.39424,
          94255.47661,
          62491.332539999996,
          39523.14229,
          1315.77759,
          25549.94362,
          89765.70778,
          43.897009999999995,
          866788.8989,
          49072.91397,
          8225.80485,
          291314.94764,
          326542.16257,
          1032452.42018,
          40836.977289999995,
          134974.74621,
          64.49702,
          100441.19642,
          8995.133389999999,
          14218.87976,
          2839.0140300000003,
          1389350.86432,
          1386485.83745,
          1671884.8158800001,
          3060.75542,
          6896.82277,
          31086.85487,
          7971.036120000001,
          160404.66759,
          13451.43893,
          10783.91541,
          101607.90067,
          3402.2383999999997,
          13876.39184,
          11322.21292,
          352784.50009,
          13988.71334,
          137380.70252,
          268538.68764,
          368541.93303,
          511.52855999999997,
          16952.101450000002,
          1726.3656500000002,
          55595.32943,
          3440.07507,
          7512.34941,
          27943.04634,
          213649.2296,
          11649.76674,
          216435.48958,
          3778.4531500000003,
          36058.99567,
          14141.98019,
          327.67019,
          1049.86915,
          56100.829990000006,
          2050.85847,
          7973.61398,
          337507.26495,
          5914.16454,
          6928.30093,
          57.55825,
          695.95152,
          1195.7334700000001,
          5173.35227,
          32.22658,
          147122.37437,
          1015844.33468,
          11986.45256,
          648.19864,
          6121.36299,
          14982.696759999999,
          24252.75265,
          413762.05499000003,
          2353.84683,
          2030.25418,
          30749.74375,
          19257.42036,
          22258.68839,
          9707.89114,
          8110.89679,
          154.99892,
          234.74319,
          6261.2139099999995,
          95.41368,
          40363.41774,
          7429.466539999999,
          8567.56392,
          78.98546999999999,
          273.65655000000004,
          249.25191,
          58675.55296
         ]
        }
       ],
       "layout": {
        "coloraxis": {
         "colorbar": {
          "title": {
           "text": "educational_spending"
          }
         },
         "colorscale": [
          [
           0,
           "#440154"
          ],
          [
           0.1111111111111111,
           "#482878"
          ],
          [
           0.2222222222222222,
           "#3e4989"
          ],
          [
           0.3333333333333333,
           "#31688e"
          ],
          [
           0.4444444444444444,
           "#26828e"
          ],
          [
           0.5555555555555556,
           "#1f9e89"
          ],
          [
           0.6666666666666666,
           "#35b779"
          ],
          [
           0.7777777777777778,
           "#6ece58"
          ],
          [
           0.8888888888888888,
           "#b5de2b"
          ],
          [
           1,
           "#fde725"
          ]
         ]
        },
        "geo": {
         "center": {},
         "domain": {
          "x": [
           0,
           1
          ],
          "y": [
           0,
           1
          ]
         }
        },
        "legend": {
         "tracegroupgap": 0
        },
        "margin": {
         "t": 60
        },
        "template": {
         "data": {
          "bar": [
           {
            "error_x": {
             "color": "#2a3f5f"
            },
            "error_y": {
             "color": "#2a3f5f"
            },
            "marker": {
             "line": {
              "color": "#E5ECF6",
              "width": 0.5
             },
             "pattern": {
              "fillmode": "overlay",
              "size": 10,
              "solidity": 0.2
             }
            },
            "type": "bar"
           }
          ],
          "barpolar": [
           {
            "marker": {
             "line": {
              "color": "#E5ECF6",
              "width": 0.5
             },
             "pattern": {
              "fillmode": "overlay",
              "size": 10,
              "solidity": 0.2
             }
            },
            "type": "barpolar"
           }
          ],
          "carpet": [
           {
            "aaxis": {
             "endlinecolor": "#2a3f5f",
             "gridcolor": "white",
             "linecolor": "white",
             "minorgridcolor": "white",
             "startlinecolor": "#2a3f5f"
            },
            "baxis": {
             "endlinecolor": "#2a3f5f",
             "gridcolor": "white",
             "linecolor": "white",
             "minorgridcolor": "white",
             "startlinecolor": "#2a3f5f"
            },
            "type": "carpet"
           }
          ],
          "choropleth": [
           {
            "colorbar": {
             "outlinewidth": 0,
             "ticks": ""
            },
            "type": "choropleth"
           }
          ],
          "contour": [
           {
            "colorbar": {
             "outlinewidth": 0,
             "ticks": ""
            },
            "colorscale": [
             [
              0,
              "#0d0887"
             ],
             [
              0.1111111111111111,
              "#46039f"
             ],
             [
              0.2222222222222222,
              "#7201a8"
             ],
             [
              0.3333333333333333,
              "#9c179e"
             ],
             [
              0.4444444444444444,
              "#bd3786"
             ],
             [
              0.5555555555555556,
              "#d8576b"
             ],
             [
              0.6666666666666666,
              "#ed7953"
             ],
             [
              0.7777777777777778,
              "#fb9f3a"
             ],
             [
              0.8888888888888888,
              "#fdca26"
             ],
             [
              1,
              "#f0f921"
             ]
            ],
            "type": "contour"
           }
          ],
          "contourcarpet": [
           {
            "colorbar": {
             "outlinewidth": 0,
             "ticks": ""
            },
            "type": "contourcarpet"
           }
          ],
          "heatmap": [
           {
            "colorbar": {
             "outlinewidth": 0,
             "ticks": ""
            },
            "colorscale": [
             [
              0,
              "#0d0887"
             ],
             [
              0.1111111111111111,
              "#46039f"
             ],
             [
              0.2222222222222222,
              "#7201a8"
             ],
             [
              0.3333333333333333,
              "#9c179e"
             ],
             [
              0.4444444444444444,
              "#bd3786"
             ],
             [
              0.5555555555555556,
              "#d8576b"
             ],
             [
              0.6666666666666666,
              "#ed7953"
             ],
             [
              0.7777777777777778,
              "#fb9f3a"
             ],
             [
              0.8888888888888888,
              "#fdca26"
             ],
             [
              1,
              "#f0f921"
             ]
            ],
            "type": "heatmap"
           }
          ],
          "heatmapgl": [
           {
            "colorbar": {
             "outlinewidth": 0,
             "ticks": ""
            },
            "colorscale": [
             [
              0,
              "#0d0887"
             ],
             [
              0.1111111111111111,
              "#46039f"
             ],
             [
              0.2222222222222222,
              "#7201a8"
             ],
             [
              0.3333333333333333,
              "#9c179e"
             ],
             [
              0.4444444444444444,
              "#bd3786"
             ],
             [
              0.5555555555555556,
              "#d8576b"
             ],
             [
              0.6666666666666666,
              "#ed7953"
             ],
             [
              0.7777777777777778,
              "#fb9f3a"
             ],
             [
              0.8888888888888888,
              "#fdca26"
             ],
             [
              1,
              "#f0f921"
             ]
            ],
            "type": "heatmapgl"
           }
          ],
          "histogram": [
           {
            "marker": {
             "pattern": {
              "fillmode": "overlay",
              "size": 10,
              "solidity": 0.2
             }
            },
            "type": "histogram"
           }
          ],
          "histogram2d": [
           {
            "colorbar": {
             "outlinewidth": 0,
             "ticks": ""
            },
            "colorscale": [
             [
              0,
              "#0d0887"
             ],
             [
              0.1111111111111111,
              "#46039f"
             ],
             [
              0.2222222222222222,
              "#7201a8"
             ],
             [
              0.3333333333333333,
              "#9c179e"
             ],
             [
              0.4444444444444444,
              "#bd3786"
             ],
             [
              0.5555555555555556,
              "#d8576b"
             ],
             [
              0.6666666666666666,
              "#ed7953"
             ],
             [
              0.7777777777777778,
              "#fb9f3a"
             ],
             [
              0.8888888888888888,
              "#fdca26"
             ],
             [
              1,
              "#f0f921"
             ]
            ],
            "type": "histogram2d"
           }
          ],
          "histogram2dcontour": [
           {
            "colorbar": {
             "outlinewidth": 0,
             "ticks": ""
            },
            "colorscale": [
             [
              0,
              "#0d0887"
             ],
             [
              0.1111111111111111,
              "#46039f"
             ],
             [
              0.2222222222222222,
              "#7201a8"
             ],
             [
              0.3333333333333333,
              "#9c179e"
             ],
             [
              0.4444444444444444,
              "#bd3786"
             ],
             [
              0.5555555555555556,
              "#d8576b"
             ],
             [
              0.6666666666666666,
              "#ed7953"
             ],
             [
              0.7777777777777778,
              "#fb9f3a"
             ],
             [
              0.8888888888888888,
              "#fdca26"
             ],
             [
              1,
              "#f0f921"
             ]
            ],
            "type": "histogram2dcontour"
           }
          ],
          "mesh3d": [
           {
            "colorbar": {
             "outlinewidth": 0,
             "ticks": ""
            },
            "type": "mesh3d"
           }
          ],
          "parcoords": [
           {
            "line": {
             "colorbar": {
              "outlinewidth": 0,
              "ticks": ""
             }
            },
            "type": "parcoords"
           }
          ],
          "pie": [
           {
            "automargin": true,
            "type": "pie"
           }
          ],
          "scatter": [
           {
            "marker": {
             "colorbar": {
              "outlinewidth": 0,
              "ticks": ""
             }
            },
            "type": "scatter"
           }
          ],
          "scatter3d": [
           {
            "line": {
             "colorbar": {
              "outlinewidth": 0,
              "ticks": ""
             }
            },
            "marker": {
             "colorbar": {
              "outlinewidth": 0,
              "ticks": ""
             }
            },
            "type": "scatter3d"
           }
          ],
          "scattercarpet": [
           {
            "marker": {
             "colorbar": {
              "outlinewidth": 0,
              "ticks": ""
             }
            },
            "type": "scattercarpet"
           }
          ],
          "scattergeo": [
           {
            "marker": {
             "colorbar": {
              "outlinewidth": 0,
              "ticks": ""
             }
            },
            "type": "scattergeo"
           }
          ],
          "scattergl": [
           {
            "marker": {
             "colorbar": {
              "outlinewidth": 0,
              "ticks": ""
             }
            },
            "type": "scattergl"
           }
          ],
          "scattermapbox": [
           {
            "marker": {
             "colorbar": {
              "outlinewidth": 0,
              "ticks": ""
             }
            },
            "type": "scattermapbox"
           }
          ],
          "scatterpolar": [
           {
            "marker": {
             "colorbar": {
              "outlinewidth": 0,
              "ticks": ""
             }
            },
            "type": "scatterpolar"
           }
          ],
          "scatterpolargl": [
           {
            "marker": {
             "colorbar": {
              "outlinewidth": 0,
              "ticks": ""
             }
            },
            "type": "scatterpolargl"
           }
          ],
          "scatterternary": [
           {
            "marker": {
             "colorbar": {
              "outlinewidth": 0,
              "ticks": ""
             }
            },
            "type": "scatterternary"
           }
          ],
          "surface": [
           {
            "colorbar": {
             "outlinewidth": 0,
             "ticks": ""
            },
            "colorscale": [
             [
              0,
              "#0d0887"
             ],
             [
              0.1111111111111111,
              "#46039f"
             ],
             [
              0.2222222222222222,
              "#7201a8"
             ],
             [
              0.3333333333333333,
              "#9c179e"
             ],
             [
              0.4444444444444444,
              "#bd3786"
             ],
             [
              0.5555555555555556,
              "#d8576b"
             ],
             [
              0.6666666666666666,
              "#ed7953"
             ],
             [
              0.7777777777777778,
              "#fb9f3a"
             ],
             [
              0.8888888888888888,
              "#fdca26"
             ],
             [
              1,
              "#f0f921"
             ]
            ],
            "type": "surface"
           }
          ],
          "table": [
           {
            "cells": {
             "fill": {
              "color": "#EBF0F8"
             },
             "line": {
              "color": "white"
             }
            },
            "header": {
             "fill": {
              "color": "#C8D4E3"
             },
             "line": {
              "color": "white"
             }
            },
            "type": "table"
           }
          ]
         },
         "layout": {
          "annotationdefaults": {
           "arrowcolor": "#2a3f5f",
           "arrowhead": 0,
           "arrowwidth": 1
          },
          "autotypenumbers": "strict",
          "coloraxis": {
           "colorbar": {
            "outlinewidth": 0,
            "ticks": ""
           }
          },
          "colorscale": {
           "diverging": [
            [
             0,
             "#8e0152"
            ],
            [
             0.1,
             "#c51b7d"
            ],
            [
             0.2,
             "#de77ae"
            ],
            [
             0.3,
             "#f1b6da"
            ],
            [
             0.4,
             "#fde0ef"
            ],
            [
             0.5,
             "#f7f7f7"
            ],
            [
             0.6,
             "#e6f5d0"
            ],
            [
             0.7,
             "#b8e186"
            ],
            [
             0.8,
             "#7fbc41"
            ],
            [
             0.9,
             "#4d9221"
            ],
            [
             1,
             "#276419"
            ]
           ],
           "sequential": [
            [
             0,
             "#0d0887"
            ],
            [
             0.1111111111111111,
             "#46039f"
            ],
            [
             0.2222222222222222,
             "#7201a8"
            ],
            [
             0.3333333333333333,
             "#9c179e"
            ],
            [
             0.4444444444444444,
             "#bd3786"
            ],
            [
             0.5555555555555556,
             "#d8576b"
            ],
            [
             0.6666666666666666,
             "#ed7953"
            ],
            [
             0.7777777777777778,
             "#fb9f3a"
            ],
            [
             0.8888888888888888,
             "#fdca26"
            ],
            [
             1,
             "#f0f921"
            ]
           ],
           "sequentialminus": [
            [
             0,
             "#0d0887"
            ],
            [
             0.1111111111111111,
             "#46039f"
            ],
            [
             0.2222222222222222,
             "#7201a8"
            ],
            [
             0.3333333333333333,
             "#9c179e"
            ],
            [
             0.4444444444444444,
             "#bd3786"
            ],
            [
             0.5555555555555556,
             "#d8576b"
            ],
            [
             0.6666666666666666,
             "#ed7953"
            ],
            [
             0.7777777777777778,
             "#fb9f3a"
            ],
            [
             0.8888888888888888,
             "#fdca26"
            ],
            [
             1,
             "#f0f921"
            ]
           ]
          },
          "colorway": [
           "#636efa",
           "#EF553B",
           "#00cc96",
           "#ab63fa",
           "#FFA15A",
           "#19d3f3",
           "#FF6692",
           "#B6E880",
           "#FF97FF",
           "#FECB52"
          ],
          "font": {
           "color": "#2a3f5f"
          },
          "geo": {
           "bgcolor": "white",
           "lakecolor": "white",
           "landcolor": "#E5ECF6",
           "showlakes": true,
           "showland": true,
           "subunitcolor": "white"
          },
          "hoverlabel": {
           "align": "left"
          },
          "hovermode": "closest",
          "mapbox": {
           "style": "light"
          },
          "paper_bgcolor": "white",
          "plot_bgcolor": "#E5ECF6",
          "polar": {
           "angularaxis": {
            "gridcolor": "white",
            "linecolor": "white",
            "ticks": ""
           },
           "bgcolor": "#E5ECF6",
           "radialaxis": {
            "gridcolor": "white",
            "linecolor": "white",
            "ticks": ""
           }
          },
          "scene": {
           "xaxis": {
            "backgroundcolor": "#E5ECF6",
            "gridcolor": "white",
            "gridwidth": 2,
            "linecolor": "white",
            "showbackground": true,
            "ticks": "",
            "zerolinecolor": "white"
           },
           "yaxis": {
            "backgroundcolor": "#E5ECF6",
            "gridcolor": "white",
            "gridwidth": 2,
            "linecolor": "white",
            "showbackground": true,
            "ticks": "",
            "zerolinecolor": "white"
           },
           "zaxis": {
            "backgroundcolor": "#E5ECF6",
            "gridcolor": "white",
            "gridwidth": 2,
            "linecolor": "white",
            "showbackground": true,
            "ticks": "",
            "zerolinecolor": "white"
           }
          },
          "shapedefaults": {
           "line": {
            "color": "#2a3f5f"
           }
          },
          "ternary": {
           "aaxis": {
            "gridcolor": "white",
            "linecolor": "white",
            "ticks": ""
           },
           "baxis": {
            "gridcolor": "white",
            "linecolor": "white",
            "ticks": ""
           },
           "bgcolor": "#E5ECF6",
           "caxis": {
            "gridcolor": "white",
            "linecolor": "white",
            "ticks": ""
           }
          },
          "title": {
           "x": 0.05
          },
          "xaxis": {
           "automargin": true,
           "gridcolor": "white",
           "linecolor": "white",
           "ticks": "",
           "title": {
            "standoff": 15
           },
           "zerolinecolor": "white",
           "zerolinewidth": 2
          },
          "yaxis": {
           "automargin": true,
           "gridcolor": "white",
           "linecolor": "white",
           "ticks": "",
           "title": {
            "standoff": 15
           },
           "zerolinecolor": "white",
           "zerolinewidth": 2
          }
         }
        }
       }
      },
      "text/html": [
       "<div>                            <div id=\"df517665-fe5a-4fde-ae99-18d17398195d\" class=\"plotly-graph-div\" style=\"height:525px; width:100%;\"></div>            <script type=\"text/javascript\">                require([\"plotly\"], function(Plotly) {                    window.PLOTLYENV=window.PLOTLYENV || {};                                    if (document.getElementById(\"df517665-fe5a-4fde-ae99-18d17398195d\")) {                    Plotly.newPlot(                        \"df517665-fe5a-4fde-ae99-18d17398195d\",                        [{\"coloraxis\":\"coloraxis\",\"geo\":\"geo\",\"hovertemplate\":\"<b>%{hovertext}</b><br><br>LOCATION=%{location}<br>educational_spending=%{z}<extra></extra>\",\"hovertext\":[\"MDG\",\"HTI\",\"PNG\",\"TUR\",\"ECU\",\"ZMB\",\"ARG\",\"ESP\",\"GIN\",\"TLS\",\"KHM\",\"POL\",\"HRV\",\"UGA\",\"BIH\",\"FJI\",\"COL\",\"NPL\",\"SVN\",\"LSO\",\"ITA\",\"HKG\",\"AFG\",\"AUT\",\"IRN\",\"DNK\",\"SYC\",\"AZE\",\"CHL\",\"BRB\",\"CMR\",\"GBR\",\"VUT\",\"TCA\",\"ARM\",\"PRY\",\"URY\",\"UKR\",\"HUN\",\"BTN\",\"ISL\",\"AUS\",\"CZE\",\"LAO\",\"BEL\",\"LTU\",\"MLI\",\"LCA\",\"LKA\",\"SWZ\",\"BGD\",\"COM\",\"PRT\",\"BLZ\",\"MDA\",\"IND\",\"NAM\",\"BFA\",\"CYP\",\"ROU\",\"BRN\",\"NER\",\"KAZ\",\"LVA\",\"CRI\",\"TGO\",\"VNM\",\"KEN\",\"GHA\",\"MDV\",\"MAC\",\"NZL\",\"KNA\",\"MEX\",\"SVK\",\"MUS\",\"SWE\",\"ZAF\",\"JPN\",\"SGP\",\"FIN\",\"GNB\",\"PER\",\"MNG\",\"TUN\",\"DOM\",\"BRA\",\"RUS\",\"DEU\",\"BDI\",\"BEN\",\"CIV\",\"OMN\",\"CAN\",\"KGZ\",\"JOR\",\"IRL\",\"LBN\",\"SLV\",\"JAM\",\"KOR\",\"HND\",\"ISR\",\"MYS\",\"NLD\",\"GMB\",\"EST\",\"TCD\",\"BLR\",\"COG\",\"ZWE\",\"GTM\",\"NOR\",\"LUX\",\"CHE\",\"SLE\",\"SRB\",\"BGR\",\"VCT\",\"CPV\",\"THA\",\"GUY\",\"GEO\",\"IDN\",\"MWI\",\"MLT\",\"WSM\",\"DJI\",\"MRT\",\"RWA\",\"DMA\",\"PAK\",\"USA\",\"MMR\",\"LBR\",\"NIC\",\"TZA\",\"QAT\",\"FRA\",\"GAB\",\"TJK\",\"ETH\",\"SEN\",\"PRI\",\"COD\",\"PSE\",\"SMR\",\"STP\",\"ALB\",\"FSM\",\"GRC\",\"BHR\",\"MOZ\",\"GRD\",\"CUW\",\"BMU\",\"UZB\"],\"locations\":[\"MDG\",\"HTI\",\"PNG\",\"TUR\",\"ECU\",\"ZMB\",\"ARG\",\"ESP\",\"GIN\",\"TLS\",\"KHM\",\"POL\",\"HRV\",\"UGA\",\"BIH\",\"FJI\",\"COL\",\"NPL\",\"SVN\",\"LSO\",\"ITA\",\"HKG\",\"AFG\",\"AUT\",\"IRN\",\"DNK\",\"SYC\",\"AZE\",\"CHL\",\"BRB\",\"CMR\",\"GBR\",\"VUT\",\"TCA\",\"ARM\",\"PRY\",\"URY\",\"UKR\",\"HUN\",\"BTN\",\"ISL\",\"AUS\",\"CZE\",\"LAO\",\"BEL\",\"LTU\",\"MLI\",\"LCA\",\"LKA\",\"SWZ\",\"BGD\",\"COM\",\"PRT\",\"BLZ\",\"MDA\",\"IND\",\"NAM\",\"BFA\",\"CYP\",\"ROU\",\"BRN\",\"NER\",\"KAZ\",\"LVA\",\"CRI\",\"TGO\",\"VNM\",\"KEN\",\"GHA\",\"MDV\",\"MAC\",\"NZL\",\"KNA\",\"MEX\",\"SVK\",\"MUS\",\"SWE\",\"ZAF\",\"JPN\",\"SGP\",\"FIN\",\"GNB\",\"PER\",\"MNG\",\"TUN\",\"DOM\",\"BRA\",\"RUS\",\"DEU\",\"BDI\",\"BEN\",\"CIV\",\"OMN\",\"CAN\",\"KGZ\",\"JOR\",\"IRL\",\"LBN\",\"SLV\",\"JAM\",\"KOR\",\"HND\",\"ISR\",\"MYS\",\"NLD\",\"GMB\",\"EST\",\"TCD\",\"BLR\",\"COG\",\"ZWE\",\"GTM\",\"NOR\",\"LUX\",\"CHE\",\"SLE\",\"SRB\",\"BGR\",\"VCT\",\"CPV\",\"THA\",\"GUY\",\"GEO\",\"IDN\",\"MWI\",\"MLT\",\"WSM\",\"DJI\",\"MRT\",\"RWA\",\"DMA\",\"PAK\",\"USA\",\"MMR\",\"LBR\",\"NIC\",\"TZA\",\"QAT\",\"FRA\",\"GAB\",\"TJK\",\"ETH\",\"SEN\",\"PRI\",\"COD\",\"PSE\",\"SMR\",\"STP\",\"ALB\",\"FSM\",\"GRC\",\"BHR\",\"MOZ\",\"GRD\",\"CUW\",\"BMU\",\"UZB\"],\"name\":\"\",\"type\":\"choropleth\",\"z\":[4737.78458,2739.37581,1419.94446,133136.53394,41320.56249,10751.31042,412006.65329,555639.49711,4885.1494,1762.28512,3570.2142799999997,386223.04092,11597.76453,10192.76546,2386.3133,482.12363,234309.7696,21076.08451,26557.701680000002,941.00754,772115.65578,120505.57951,15521.62977,206826.90628999998,277145.69592,103203.42177,357.21894,27682.34105,167099.85957,1212.73064,14660.13471,1179558.42384,154.29113,66.96485,5364.28352,3598.76649,14032.788340000001,205653.60704,99435.26032,3005.0671,10186.33328,469853.38287,145862.65133999998,2860.30043,279640.07045,29867.68372,8138.6631099999995,638.0950300000001,44992.64803,716.61947,22699.74483,194.91116,100125.51548,1325.63621,8903.83435,910747.57483,578.84702,10056.14438,11552.85802,129057.16421,2693.5007,6241.39173,65324.2169,20128.07528,50534.037280000004,3827.39424,94255.47661,62491.332539999996,39523.14229,1315.77759,25549.94362,89765.70778,43.897009999999995,866788.8989,49072.91397,8225.80485,291314.94764,326542.16257,1032452.42018,40836.977289999995,134974.74621,64.49702,100441.19642,8995.133389999999,14218.87976,2839.0140300000003,1389350.86432,1386485.83745,1671884.8158800001,3060.75542,6896.82277,31086.85487,7971.036120000001,160404.66759,13451.43893,10783.91541,101607.90067,3402.2383999999997,13876.39184,11322.21292,352784.50009,13988.71334,137380.70252,268538.68764,368541.93303,511.52855999999997,16952.101450000002,1726.3656500000002,55595.32943,3440.07507,7512.34941,27943.04634,213649.2296,11649.76674,216435.48958,3778.4531500000003,36058.99567,14141.98019,327.67019,1049.86915,56100.829990000006,2050.85847,7973.61398,337507.26495,5914.16454,6928.30093,57.55825,695.95152,1195.7334700000001,5173.35227,32.22658,147122.37437,1015844.33468,11986.45256,648.19864,6121.36299,14982.696759999999,24252.75265,413762.05499000003,2353.84683,2030.25418,30749.74375,19257.42036,22258.68839,9707.89114,8110.89679,154.99892,234.74319,6261.2139099999995,95.41368,40363.41774,7429.466539999999,8567.56392,78.98546999999999,273.65655000000004,249.25191,58675.55296]}],                        {\"coloraxis\":{\"colorbar\":{\"title\":{\"text\":\"educational_spending\"}},\"colorscale\":[[0.0,\"#440154\"],[0.1111111111111111,\"#482878\"],[0.2222222222222222,\"#3e4989\"],[0.3333333333333333,\"#31688e\"],[0.4444444444444444,\"#26828e\"],[0.5555555555555556,\"#1f9e89\"],[0.6666666666666666,\"#35b779\"],[0.7777777777777778,\"#6ece58\"],[0.8888888888888888,\"#b5de2b\"],[1.0,\"#fde725\"]]},\"geo\":{\"center\":{},\"domain\":{\"x\":[0.0,1.0],\"y\":[0.0,1.0]}},\"legend\":{\"tracegroupgap\":0},\"margin\":{\"t\":60},\"template\":{\"data\":{\"bar\":[{\"error_x\":{\"color\":\"#2a3f5f\"},\"error_y\":{\"color\":\"#2a3f5f\"},\"marker\":{\"line\":{\"color\":\"#E5ECF6\",\"width\":0.5},\"pattern\":{\"fillmode\":\"overlay\",\"size\":10,\"solidity\":0.2}},\"type\":\"bar\"}],\"barpolar\":[{\"marker\":{\"line\":{\"color\":\"#E5ECF6\",\"width\":0.5},\"pattern\":{\"fillmode\":\"overlay\",\"size\":10,\"solidity\":0.2}},\"type\":\"barpolar\"}],\"carpet\":[{\"aaxis\":{\"endlinecolor\":\"#2a3f5f\",\"gridcolor\":\"white\",\"linecolor\":\"white\",\"minorgridcolor\":\"white\",\"startlinecolor\":\"#2a3f5f\"},\"baxis\":{\"endlinecolor\":\"#2a3f5f\",\"gridcolor\":\"white\",\"linecolor\":\"white\",\"minorgridcolor\":\"white\",\"startlinecolor\":\"#2a3f5f\"},\"type\":\"carpet\"}],\"choropleth\":[{\"colorbar\":{\"outlinewidth\":0,\"ticks\":\"\"},\"type\":\"choropleth\"}],\"contour\":[{\"colorbar\":{\"outlinewidth\":0,\"ticks\":\"\"},\"colorscale\":[[0.0,\"#0d0887\"],[0.1111111111111111,\"#46039f\"],[0.2222222222222222,\"#7201a8\"],[0.3333333333333333,\"#9c179e\"],[0.4444444444444444,\"#bd3786\"],[0.5555555555555556,\"#d8576b\"],[0.6666666666666666,\"#ed7953\"],[0.7777777777777778,\"#fb9f3a\"],[0.8888888888888888,\"#fdca26\"],[1.0,\"#f0f921\"]],\"type\":\"contour\"}],\"contourcarpet\":[{\"colorbar\":{\"outlinewidth\":0,\"ticks\":\"\"},\"type\":\"contourcarpet\"}],\"heatmap\":[{\"colorbar\":{\"outlinewidth\":0,\"ticks\":\"\"},\"colorscale\":[[0.0,\"#0d0887\"],[0.1111111111111111,\"#46039f\"],[0.2222222222222222,\"#7201a8\"],[0.3333333333333333,\"#9c179e\"],[0.4444444444444444,\"#bd3786\"],[0.5555555555555556,\"#d8576b\"],[0.6666666666666666,\"#ed7953\"],[0.7777777777777778,\"#fb9f3a\"],[0.8888888888888888,\"#fdca26\"],[1.0,\"#f0f921\"]],\"type\":\"heatmap\"}],\"heatmapgl\":[{\"colorbar\":{\"outlinewidth\":0,\"ticks\":\"\"},\"colorscale\":[[0.0,\"#0d0887\"],[0.1111111111111111,\"#46039f\"],[0.2222222222222222,\"#7201a8\"],[0.3333333333333333,\"#9c179e\"],[0.4444444444444444,\"#bd3786\"],[0.5555555555555556,\"#d8576b\"],[0.6666666666666666,\"#ed7953\"],[0.7777777777777778,\"#fb9f3a\"],[0.8888888888888888,\"#fdca26\"],[1.0,\"#f0f921\"]],\"type\":\"heatmapgl\"}],\"histogram\":[{\"marker\":{\"pattern\":{\"fillmode\":\"overlay\",\"size\":10,\"solidity\":0.2}},\"type\":\"histogram\"}],\"histogram2d\":[{\"colorbar\":{\"outlinewidth\":0,\"ticks\":\"\"},\"colorscale\":[[0.0,\"#0d0887\"],[0.1111111111111111,\"#46039f\"],[0.2222222222222222,\"#7201a8\"],[0.3333333333333333,\"#9c179e\"],[0.4444444444444444,\"#bd3786\"],[0.5555555555555556,\"#d8576b\"],[0.6666666666666666,\"#ed7953\"],[0.7777777777777778,\"#fb9f3a\"],[0.8888888888888888,\"#fdca26\"],[1.0,\"#f0f921\"]],\"type\":\"histogram2d\"}],\"histogram2dcontour\":[{\"colorbar\":{\"outlinewidth\":0,\"ticks\":\"\"},\"colorscale\":[[0.0,\"#0d0887\"],[0.1111111111111111,\"#46039f\"],[0.2222222222222222,\"#7201a8\"],[0.3333333333333333,\"#9c179e\"],[0.4444444444444444,\"#bd3786\"],[0.5555555555555556,\"#d8576b\"],[0.6666666666666666,\"#ed7953\"],[0.7777777777777778,\"#fb9f3a\"],[0.8888888888888888,\"#fdca26\"],[1.0,\"#f0f921\"]],\"type\":\"histogram2dcontour\"}],\"mesh3d\":[{\"colorbar\":{\"outlinewidth\":0,\"ticks\":\"\"},\"type\":\"mesh3d\"}],\"parcoords\":[{\"line\":{\"colorbar\":{\"outlinewidth\":0,\"ticks\":\"\"}},\"type\":\"parcoords\"}],\"pie\":[{\"automargin\":true,\"type\":\"pie\"}],\"scatter\":[{\"marker\":{\"colorbar\":{\"outlinewidth\":0,\"ticks\":\"\"}},\"type\":\"scatter\"}],\"scatter3d\":[{\"line\":{\"colorbar\":{\"outlinewidth\":0,\"ticks\":\"\"}},\"marker\":{\"colorbar\":{\"outlinewidth\":0,\"ticks\":\"\"}},\"type\":\"scatter3d\"}],\"scattercarpet\":[{\"marker\":{\"colorbar\":{\"outlinewidth\":0,\"ticks\":\"\"}},\"type\":\"scattercarpet\"}],\"scattergeo\":[{\"marker\":{\"colorbar\":{\"outlinewidth\":0,\"ticks\":\"\"}},\"type\":\"scattergeo\"}],\"scattergl\":[{\"marker\":{\"colorbar\":{\"outlinewidth\":0,\"ticks\":\"\"}},\"type\":\"scattergl\"}],\"scattermapbox\":[{\"marker\":{\"colorbar\":{\"outlinewidth\":0,\"ticks\":\"\"}},\"type\":\"scattermapbox\"}],\"scatterpolar\":[{\"marker\":{\"colorbar\":{\"outlinewidth\":0,\"ticks\":\"\"}},\"type\":\"scatterpolar\"}],\"scatterpolargl\":[{\"marker\":{\"colorbar\":{\"outlinewidth\":0,\"ticks\":\"\"}},\"type\":\"scatterpolargl\"}],\"scatterternary\":[{\"marker\":{\"colorbar\":{\"outlinewidth\":0,\"ticks\":\"\"}},\"type\":\"scatterternary\"}],\"surface\":[{\"colorbar\":{\"outlinewidth\":0,\"ticks\":\"\"},\"colorscale\":[[0.0,\"#0d0887\"],[0.1111111111111111,\"#46039f\"],[0.2222222222222222,\"#7201a8\"],[0.3333333333333333,\"#9c179e\"],[0.4444444444444444,\"#bd3786\"],[0.5555555555555556,\"#d8576b\"],[0.6666666666666666,\"#ed7953\"],[0.7777777777777778,\"#fb9f3a\"],[0.8888888888888888,\"#fdca26\"],[1.0,\"#f0f921\"]],\"type\":\"surface\"}],\"table\":[{\"cells\":{\"fill\":{\"color\":\"#EBF0F8\"},\"line\":{\"color\":\"white\"}},\"header\":{\"fill\":{\"color\":\"#C8D4E3\"},\"line\":{\"color\":\"white\"}},\"type\":\"table\"}]},\"layout\":{\"annotationdefaults\":{\"arrowcolor\":\"#2a3f5f\",\"arrowhead\":0,\"arrowwidth\":1},\"autotypenumbers\":\"strict\",\"coloraxis\":{\"colorbar\":{\"outlinewidth\":0,\"ticks\":\"\"}},\"colorscale\":{\"diverging\":[[0,\"#8e0152\"],[0.1,\"#c51b7d\"],[0.2,\"#de77ae\"],[0.3,\"#f1b6da\"],[0.4,\"#fde0ef\"],[0.5,\"#f7f7f7\"],[0.6,\"#e6f5d0\"],[0.7,\"#b8e186\"],[0.8,\"#7fbc41\"],[0.9,\"#4d9221\"],[1,\"#276419\"]],\"sequential\":[[0.0,\"#0d0887\"],[0.1111111111111111,\"#46039f\"],[0.2222222222222222,\"#7201a8\"],[0.3333333333333333,\"#9c179e\"],[0.4444444444444444,\"#bd3786\"],[0.5555555555555556,\"#d8576b\"],[0.6666666666666666,\"#ed7953\"],[0.7777777777777778,\"#fb9f3a\"],[0.8888888888888888,\"#fdca26\"],[1.0,\"#f0f921\"]],\"sequentialminus\":[[0.0,\"#0d0887\"],[0.1111111111111111,\"#46039f\"],[0.2222222222222222,\"#7201a8\"],[0.3333333333333333,\"#9c179e\"],[0.4444444444444444,\"#bd3786\"],[0.5555555555555556,\"#d8576b\"],[0.6666666666666666,\"#ed7953\"],[0.7777777777777778,\"#fb9f3a\"],[0.8888888888888888,\"#fdca26\"],[1.0,\"#f0f921\"]]},\"colorway\":[\"#636efa\",\"#EF553B\",\"#00cc96\",\"#ab63fa\",\"#FFA15A\",\"#19d3f3\",\"#FF6692\",\"#B6E880\",\"#FF97FF\",\"#FECB52\"],\"font\":{\"color\":\"#2a3f5f\"},\"geo\":{\"bgcolor\":\"white\",\"lakecolor\":\"white\",\"landcolor\":\"#E5ECF6\",\"showlakes\":true,\"showland\":true,\"subunitcolor\":\"white\"},\"hoverlabel\":{\"align\":\"left\"},\"hovermode\":\"closest\",\"mapbox\":{\"style\":\"light\"},\"paper_bgcolor\":\"white\",\"plot_bgcolor\":\"#E5ECF6\",\"polar\":{\"angularaxis\":{\"gridcolor\":\"white\",\"linecolor\":\"white\",\"ticks\":\"\"},\"bgcolor\":\"#E5ECF6\",\"radialaxis\":{\"gridcolor\":\"white\",\"linecolor\":\"white\",\"ticks\":\"\"}},\"scene\":{\"xaxis\":{\"backgroundcolor\":\"#E5ECF6\",\"gridcolor\":\"white\",\"gridwidth\":2,\"linecolor\":\"white\",\"showbackground\":true,\"ticks\":\"\",\"zerolinecolor\":\"white\"},\"yaxis\":{\"backgroundcolor\":\"#E5ECF6\",\"gridcolor\":\"white\",\"gridwidth\":2,\"linecolor\":\"white\",\"showbackground\":true,\"ticks\":\"\",\"zerolinecolor\":\"white\"},\"zaxis\":{\"backgroundcolor\":\"#E5ECF6\",\"gridcolor\":\"white\",\"gridwidth\":2,\"linecolor\":\"white\",\"showbackground\":true,\"ticks\":\"\",\"zerolinecolor\":\"white\"}},\"shapedefaults\":{\"line\":{\"color\":\"#2a3f5f\"}},\"ternary\":{\"aaxis\":{\"gridcolor\":\"white\",\"linecolor\":\"white\",\"ticks\":\"\"},\"baxis\":{\"gridcolor\":\"white\",\"linecolor\":\"white\",\"ticks\":\"\"},\"bgcolor\":\"#E5ECF6\",\"caxis\":{\"gridcolor\":\"white\",\"linecolor\":\"white\",\"ticks\":\"\"}},\"title\":{\"x\":0.05},\"xaxis\":{\"automargin\":true,\"gridcolor\":\"white\",\"linecolor\":\"white\",\"ticks\":\"\",\"title\":{\"standoff\":15},\"zerolinecolor\":\"white\",\"zerolinewidth\":2},\"yaxis\":{\"automargin\":true,\"gridcolor\":\"white\",\"linecolor\":\"white\",\"ticks\":\"\",\"title\":{\"standoff\":15},\"zerolinecolor\":\"white\",\"zerolinewidth\":2}}}},                        {\"responsive\": true}                    ).then(function(){\n",
       "                            \n",
       "var gd = document.getElementById('df517665-fe5a-4fde-ae99-18d17398195d');\n",
       "var x = new MutationObserver(function (mutations, observer) {{\n",
       "        var display = window.getComputedStyle(gd).display;\n",
       "        if (!display || display === 'none') {{\n",
       "            console.log([gd, 'removed!']);\n",
       "            Plotly.purge(gd);\n",
       "            observer.disconnect();\n",
       "        }}\n",
       "}});\n",
       "\n",
       "// Listen for the removal of the full notebook cells\n",
       "var notebookContainer = gd.closest('#notebook-container');\n",
       "if (notebookContainer) {{\n",
       "    x.observe(notebookContainer, {childList: true});\n",
       "}}\n",
       "\n",
       "// Listen for the clearing of the current output cell\n",
       "var outputEl = gd.closest('.output');\n",
       "if (outputEl) {{\n",
       "    x.observe(outputEl, {childList: true});\n",
       "}}\n",
       "\n",
       "                        })                };                });            </script>        </div>"
      ]
     },
     "metadata": {},
     "output_type": "display_data"
    }
   ],
   "source": [
    "x = exp.query('2013 <= TIME <= 2018')\n",
    "agg_exp = x[['educational_spending','LOCATION']]\n",
    "agg_exp.educational_spending = agg_exp.groupby(['LOCATION']).transform('sum')\n",
    "agg_exp = agg_exp.drop_duplicates(subset=['LOCATION'], keep='last').dropna(subset=['LOCATION'])\n",
    "fig = px.choropleth(agg_exp, locations=\"LOCATION\",\n",
    "                    color=\"educational_spending\",\n",
    "                    hover_name=\"LOCATION\", \n",
    "                    color_continuous_scale=px.colors.sequential.Viridis)\n",
    "fig.show()"
   ]
  },
  {
   "cell_type": "markdown",
   "id": "26c6e31c",
   "metadata": {},
   "source": [
    "#### Germany seems to have the highest total spending and Brazil, India, Russia, USA, Japan, GBR, Italy, Mexico all seem to be spending above average. ####"
   ]
  },
  {
   "cell_type": "markdown",
   "id": "da629ef1",
   "metadata": {},
   "source": [
    "### Relationship between spending and rankings ###"
   ]
  },
  {
   "cell_type": "markdown",
   "id": "8d037bbc",
   "metadata": {},
   "source": [
    "#### CWUR Rankings ####"
   ]
  },
  {
   "cell_type": "code",
   "execution_count": 272,
   "id": "f0e7706f",
   "metadata": {},
   "outputs": [],
   "source": [
    "# scrape cwur website to get lastest rankings\n",
    "import requests\n",
    "\n",
    "def scrape_cwur(year,columns):\n",
    "    if year > 2017:\n",
    "        url = 'https://cwur.org/'+str(year)+'-'+str(year+1)[-2:]+'.php'\n",
    "    else:\n",
    "        url = 'https://cwur.org/'+str(year)+'.php'\n",
    "    headers = {'user-agent': 'PostmanRuntime/7.28.4','Accept': '*/*'}\n",
    "    res = requests.get(url, headers=headers)\n",
    "    df = pd.read_html(res.content)\n",
    "    df[0]['year'] = year\n",
    "    df[0] = df[0].rename(columns={\"World Rank\": \"world_rank\", \"Institution\": \"institution\", \"Country\":\"country\", \"Location\":\"country\", \"National Rank\":\"national_rank\", \"Score\":\"score\"})\n",
    "    return df[0][columns]"
   ]
  },
  {
   "cell_type": "code",
   "execution_count": 274,
   "id": "735358de",
   "metadata": {},
   "outputs": [
    {
     "data": {
      "image/png": "[encoded data removed]",
      "text/plain": [
       "<Figure size 432x288 with 1 Axes>"
      ]
     },
     "metadata": {
      "needs_background": "light"
     },
     "output_type": "display_data"
    }
   ],
   "source": [
    "fig, ax = plt.subplots()\n",
    "countries_list = exp[exp['educational_spending']>150000]['Country'].unique()\n",
    "for country in countries_list:\n",
    "    x = exp[['TIME', 'Country', 'educational_spending']]\n",
    "    x = x[x['Country'] == country]\n",
    "    x['expenditure'] = x[['educational_spending','TIME']].groupby(['TIME']).transform('sum')\n",
    "    x = x.drop_duplicates(subset=['TIME'])\n",
    "    x = x.drop(['educational_spending'], axis=1).sort_values('TIME')\n",
    "    ax.plot(x['TIME'], x['expenditure'], label=country)\n",
    "    ax.set_ylabel('Educational Spending noramlized PPP')\n",
    "    ax.legend(bbox_to_anchor=(1, 1))\n",
    "    ax.set_title('Trends in Education spending over the years')"
   ]
  },
  {
   "cell_type": "markdown",
   "id": "30ee338a",
   "metadata": {},
   "source": [
    "#### Russia's spending has a sharp increase in 2016 and 2017 while Germany, Brazil and UK have a steady increase. Japan's spending has decreased and India's has increased with a few spikes in 2011 and 2015 ####"
   ]
  },
  {
   "cell_type": "code",
   "execution_count": 281,
   "id": "11f9d7bc",
   "metadata": {},
   "outputs": [],
   "source": [
    "# get cwur ranking for the last 10 years\n",
    "ranking_cwur = pd.read_csv('data/cwurData.csv')\n",
    "columns = ['world_rank', 'institution', 'country', 'national_rank', 'score', 'year']\n",
    "ranking_cwur.head()\n",
    "years = [2016,2017,2018,2019,2020,2021]\n",
    "for year in years:\n",
    "    ranking_cwur = pd.concat([ranking_cwur,scrape_cwur(year, columns)])"
   ]
  },
  {
   "cell_type": "code",
   "execution_count": 259,
   "id": "513e29cb",
   "metadata": {},
   "outputs": [
    {
     "data": {
      "image/png": "[encoded data removed]",
      "text/plain": [
       "<Figure size 432x288 with 1 Axes>"
      ]
     },
     "metadata": {
      "needs_background": "light"
     },
     "output_type": "display_data"
    }
   ],
   "source": [
    "fig, ax = plt.subplots()\n",
    "# get cwur rankings for last 10 years for countries in countries list\n",
    "country_map = {'United States of America':'USA', 'Russian Federation':'Russia','United Kingdom of great Britain and Northern Ireland': 'United Kingdom'}\n",
    "for country in countries_list:\n",
    "    x = ranking_cwur[['world_rank','country','year']].dropna()\n",
    "    if country in country_map.keys():\n",
    "        country = country_map[country]\n",
    "    x.world_rank = x.world_rank.astype('str')\n",
    "    x.world_rank = x.world_rank.str.split('T').str[0]\n",
    "    x.world_rank = x.world_rank.astype('int')\n",
    "    x = x.query('country == @country')\n",
    "    x = x[x['world_rank'] < 500]\n",
    "    x['count'] = x.groupby(['year'])['world_rank'].transform('count')\n",
    "    x.drop_duplicates(subset=['year'], inplace = True)\n",
    "    ax.plot(x['year'], x['count'], label=country)\n",
    "    ax.set_ylabel('Number of universities in Top 100')\n",
    "    ax.legend(bbox_to_anchor=(1, 1))\n",
    "    ax.set_title('Trends in University Rankings of the Countries')"
   ]
  },
  {
   "cell_type": "markdown",
   "id": "4a61ef10",
   "metadata": {},
   "source": [
    "#### The rankings and spending seem to have no clear correlation in this case. Japan's spending and rankings both have a downward trend while Germany's spending and ranking both have increased or held steady over the years. Brazil's spending and ranking have also increased together while there doesn't seem to be a clear outcome corresponding to India's increase in spending ####"
   ]
  }
 ],
 "metadata": {
  "kernelspec": {
   "display_name": "Python 3 (ipykernel)",
   "language": "python",
   "name": "python3"
  },
  "language_info": {
   "codemirror_mode": {
    "name": "ipython",
    "version": 3
   },
   "file_extension": ".py",
   "mimetype": "text/x-python",
   "name": "python",
   "nbconvert_exporter": "python",
   "pygments_lexer": "ipython3",
   "version": "3.9.7"
  }
 },
 "nbformat": 4,
 "nbformat_minor": 5
}
