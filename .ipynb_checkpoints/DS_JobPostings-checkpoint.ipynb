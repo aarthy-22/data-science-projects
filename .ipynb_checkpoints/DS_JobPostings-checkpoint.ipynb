{
 "cells": [
  {
   "cell_type": "code",
   "execution_count": null,
   "metadata": {},
   "outputs": [],
   "source": [
    "# This project is a demonstration of web scraping. We scrape indeed job search site to find the relative frequency\n",
    "# with which certain educational qualifications and technical skills are mentioned in postings for Data scientist jobs"
   ]
  },
  {
   "cell_type": "code",
   "execution_count": 1,
   "metadata": {},
   "outputs": [],
   "source": [
    "import urllib.request as request\n",
    "import urllib.error as error\n",
    "from bs4 import BeautifulSoup\n",
    "import math\n",
    "import re\n",
    "import matplotlib.pyplot as plt"
   ]
  },
  {
   "cell_type": "code",
   "execution_count": 2,
   "metadata": {},
   "outputs": [
    {
     "name": "stdout",
     "output_type": "stream",
     "text": [
      "Enter number of jobs to aggregate:10\n"
     ]
    }
   ],
   "source": [
    "max_jobs = int(input(\"Enter number of jobs to aggregate:\"))"
   ]
  },
  {
   "cell_type": "code",
   "execution_count": 4,
   "metadata": {},
   "outputs": [],
   "source": [
    "url = 'https://www.indeed.com/jobs?q='+request.pathname2url('data scientist')\n",
    "source = request.urlopen(url).read()\n",
    "indeed = BeautifulSoup(source)\n",
    "count_str = indeed.find(id='searchCountPages').contents[0].split()[-2]\n",
    "count_str = count_str.replace(',','')\n",
    "count = int(count_str)"
   ]
  },
  {
   "cell_type": "code",
   "execution_count": 6,
   "metadata": {},
   "outputs": [
    {
     "name": "stdout",
     "output_type": "stream",
     "text": [
      "Jobs found: 15\n"
     ]
    }
   ],
   "source": [
    "count = max_jobs if max_jobs < count else count\n",
    "links = []\n",
    "limit = 10\n",
    "base = \"https://www.indeed.com\"\n",
    "for start in range(math.ceil(count/limit)):\n",
    "    url = 'https://www.indeed.com/jobs?q='+request.pathname2url('data scientist')+'&limit='+str(limit)+'&start='+str(start*50)\n",
    "    html = request.urlopen(url).read()\n",
    "    soup = BeautifulSoup(html)\n",
    "    links += [base+l.get('href') for l in soup.find_all(\"a\", class_=\"jobtitle turnstileLink\")] \n",
    "print(\"Jobs found:\", len(links))"
   ]
  },
  {
   "cell_type": "code",
   "execution_count": 7,
   "metadata": {},
   "outputs": [],
   "source": [
    "qualifications = {'bachelors':0, 'masters':0,' phd ':0}\n",
    "skills = {'python':0, ' r ':0, 'hadoop':0, 'spark':0, 'tableau':0, ' hive ':0}"
   ]
  },
  {
   "cell_type": "code",
   "execution_count": 8,
   "metadata": {},
   "outputs": [
    {
     "name": "stdout",
     "output_type": "stream",
     "text": [
      "{'bachelors': 6, 'masters': 4, ' phd ': 2}\n",
      "{'python': 13, ' r ': 6, 'hadoop': 0, 'spark': 1, 'tableau': 0, ' hive ': 0}\n"
     ]
    }
   ],
   "source": [
    "for link in links:\n",
    "    try:\n",
    "        html_job = request.urlopen(link).read().decode('utf-8')\n",
    "    except error.URLError:\n",
    "        print(\"URL error for \", link)\n",
    "        continue\n",
    "    \n",
    "    job_soup = BeautifulSoup(html_job).find(id=\"jobDescriptionText\")\n",
    "    job_text = job_soup.get_text()\n",
    "    job = re.sub(\"[^a-z ]\",\"\",job_text.lower())\n",
    "    \n",
    "    for qual in qualifications.keys():\n",
    "        if qual == 'masters':\n",
    "            if 'masters' in job or ' ms ' in job:\n",
    "                qualifications[qual] += 1\n",
    "        elif qual in job:\n",
    "            qualifications[qual] += 1\n",
    "            \n",
    "    for skill in skills.keys():\n",
    "        if skill in job:\n",
    "            skills[skill] += 1\n",
    "            \n",
    "print(qualifications)\n",
    "print(skills)"
   ]
  },
  {
   "cell_type": "code",
   "execution_count": 9,
   "metadata": {},
   "outputs": [
    {
     "data": {
      "image/png": "[encoded data removed]",
      "text/plain": [
       "<Figure size 432x288 with 1 Axes>"
      ]
     },
     "metadata": {
      "needs_background": "light"
     },
     "output_type": "display_data"
    }
   ],
   "source": [
    "\n",
    "plt.bar(*zip(*qualifications.items()))\n",
    "plt.xlabel(\"Educational qualification\")\n",
    "plt.ylabel(\"Number of jobs\")\n",
    "plt.title(\"Number of job postings mentioning particular qualification\");\n",
    "\n",
    "plt.bar(*zip(*skills.items()))\n",
    "plt.xlabel(\"Technical skills\")\n",
    "plt.ylabel(\"Number of jobs\")\n",
    "plt.title(\"Number of job postings mentioning particular skill\");"
   ]
  },
  {
   "cell_type": "code",
   "execution_count": null,
   "metadata": {},
   "outputs": [],
   "source": [
    "# Add soft skills\n",
    "# Take skills as input from users and store most frequent skills\n",
    "# Show comparison outputs in a nicer way"
   ]
  }
 ],
 "metadata": {
  "kernelspec": {
   "display_name": "Python 3",
   "language": "python",
   "name": "python3"
  },
  "language_info": {
   "codemirror_mode": {
    "name": "ipython",
    "version": 3
   },
   "file_extension": ".py",
   "mimetype": "text/x-python",
   "name": "python",
   "nbconvert_exporter": "python",
   "pygments_lexer": "ipython3",
   "version": "3.8.3"
  }
 },
 "nbformat": 4,
 "nbformat_minor": 4
}
